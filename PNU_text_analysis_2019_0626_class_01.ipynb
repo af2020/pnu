{
 "cells": [
  {
   "cell_type": "markdown",
   "metadata": {
    "ExecuteTime": {
     "end_time": "2019-06-20T15:04:21.462807Z",
     "start_time": "2019-06-20T15:04:20.307Z"
    }
   },
   "source": [
    "# tidytext package basics"
   ]
  },
  {
   "cell_type": "markdown",
   "metadata": {},
   "source": [
    "* tidyverse univers in R\n",
    "* what is tidy data?\n",
    "* key verses for data analysis\n",
    "* pipe operator\n",
    "* tidytext package key features - tokenize, stopwords, sentiments and others\n",
    "* some examples in tidytext package\n"
   ]
  },
  {
   "cell_type": "markdown",
   "metadata": {},
   "source": [
    "## class prerequisite"
   ]
  },
  {
   "cell_type": "markdown",
   "metadata": {},
   "source": [
    "* R의 기본적인 문법 중에서 dplyr, tidyverse, ggplot2 그리고 pipe operator를 알고 있다는 전제로 진행합니다.\n",
    "* 여기에서는 이와 같은 사항을 간단히 정리해보려고 합니다.\n",
    "* 이미 알고 계신 분도 있겠지만, 사실 tidyverse를 잘 알고 계시다면 tidytext는 비교적 쉽게 접근할 수 있는 주제입니다.\n",
    "* 이론적인 내용은 웹상에 자료가 많으므로 실습을 통해서 내용을 파악해보려고 합니다. \n"
   ]
  },
  {
   "cell_type": "markdown",
   "metadata": {},
   "source": [
    "## library load\n",
    "* 먼저 실습을 위해 필요한 패키지들을 load하겠습니다.\n",
    "* 패키지를 loadg 하기 위해서는 먼저 이 패키지들이 R에 설치되어 있어야 합니다.\n",
    "* 패키지를 설치하는 명령어는 아래와 같습니다. \n",
    "> install.pakcages(\"패키지이름\")"
   ]
  },
  {
   "cell_type": "code",
   "execution_count": 2,
   "metadata": {
    "ExecuteTime": {
     "end_time": "2019-06-20T15:31:53.254086Z",
     "start_time": "2019-06-20T15:31:52.088Z"
    }
   },
   "outputs": [],
   "source": [
    "library(tidyverse)\n",
    "library(dplyr)\n",
    "library(ggplot2)"
   ]
  },
  {
   "cell_type": "markdown",
   "metadata": {},
   "source": [
    "## data load & explore\n",
    "* ggplot2 패키지에는 \"diamonds\"라는 이름의 데이터가 포함되어 있습니다. \n",
    "* 이 데이터로 간단한 tidyverse 를 살펴보려고 합니다."
   ]
  },
  {
   "cell_type": "code",
   "execution_count": 3,
   "metadata": {
    "ExecuteTime": {
     "end_time": "2019-06-20T15:36:25.002575Z",
     "start_time": "2019-06-20T15:36:23.240Z"
    }
   },
   "outputs": [],
   "source": [
    "# diamonds"
   ]
  },
  {
   "cell_type": "markdown",
   "metadata": {
    "cell_style": "center",
    "slideshow": {
     "slide_type": "slide"
    }
   },
   "source": [
    "### head\n",
    "* 상위 n개 데이터만 살펴볼 수 있습니다."
   ]
  },
  {
   "cell_type": "code",
   "execution_count": 18,
   "metadata": {
    "ExecuteTime": {
     "end_time": "2019-06-20T15:40:41.882132Z",
     "start_time": "2019-06-20T15:40:40.708Z"
    },
    "cell_style": "center"
   },
   "outputs": [
    {
     "data": {
      "text/html": [
       "<table>\n",
       "<thead><tr><th scope=col>carat</th><th scope=col>cut</th><th scope=col>color</th><th scope=col>clarity</th><th scope=col>depth</th><th scope=col>table</th><th scope=col>price</th><th scope=col>x</th><th scope=col>y</th><th scope=col>z</th></tr></thead>\n",
       "<tbody>\n",
       "\t<tr><td>0.23   </td><td>Ideal  </td><td>E      </td><td>SI2    </td><td>61.5   </td><td>55     </td><td>326    </td><td>3.95   </td><td>3.98   </td><td>2.43   </td></tr>\n",
       "\t<tr><td>0.21   </td><td>Premium</td><td>E      </td><td>SI1    </td><td>59.8   </td><td>61     </td><td>326    </td><td>3.89   </td><td>3.84   </td><td>2.31   </td></tr>\n",
       "\t<tr><td>0.23   </td><td>Good   </td><td>E      </td><td>VS1    </td><td>56.9   </td><td>65     </td><td>327    </td><td>4.05   </td><td>4.07   </td><td>2.31   </td></tr>\n",
       "\t<tr><td>0.29   </td><td>Premium</td><td>I      </td><td>VS2    </td><td>62.4   </td><td>58     </td><td>334    </td><td>4.20   </td><td>4.23   </td><td>2.63   </td></tr>\n",
       "\t<tr><td>0.31   </td><td>Good   </td><td>J      </td><td>SI2    </td><td>63.3   </td><td>58     </td><td>335    </td><td>4.34   </td><td>4.35   </td><td>2.75   </td></tr>\n",
       "</tbody>\n",
       "</table>\n"
      ],
      "text/latex": [
       "\\begin{tabular}{r|llllllllll}\n",
       " carat & cut & color & clarity & depth & table & price & x & y & z\\\\\n",
       "\\hline\n",
       "\t 0.23    & Ideal   & E       & SI2     & 61.5    & 55      & 326     & 3.95    & 3.98    & 2.43   \\\\\n",
       "\t 0.21    & Premium & E       & SI1     & 59.8    & 61      & 326     & 3.89    & 3.84    & 2.31   \\\\\n",
       "\t 0.23    & Good    & E       & VS1     & 56.9    & 65      & 327     & 4.05    & 4.07    & 2.31   \\\\\n",
       "\t 0.29    & Premium & I       & VS2     & 62.4    & 58      & 334     & 4.20    & 4.23    & 2.63   \\\\\n",
       "\t 0.31    & Good    & J       & SI2     & 63.3    & 58      & 335     & 4.34    & 4.35    & 2.75   \\\\\n",
       "\\end{tabular}\n"
      ],
      "text/markdown": [
       "\n",
       "| carat | cut | color | clarity | depth | table | price | x | y | z |\n",
       "|---|---|---|---|---|---|---|---|---|---|\n",
       "| 0.23    | Ideal   | E       | SI2     | 61.5    | 55      | 326     | 3.95    | 3.98    | 2.43    |\n",
       "| 0.21    | Premium | E       | SI1     | 59.8    | 61      | 326     | 3.89    | 3.84    | 2.31    |\n",
       "| 0.23    | Good    | E       | VS1     | 56.9    | 65      | 327     | 4.05    | 4.07    | 2.31    |\n",
       "| 0.29    | Premium | I       | VS2     | 62.4    | 58      | 334     | 4.20    | 4.23    | 2.63    |\n",
       "| 0.31    | Good    | J       | SI2     | 63.3    | 58      | 335     | 4.34    | 4.35    | 2.75    |\n",
       "\n"
      ],
      "text/plain": [
       "  carat cut     color clarity depth table price x    y    z   \n",
       "1 0.23  Ideal   E     SI2     61.5  55    326   3.95 3.98 2.43\n",
       "2 0.21  Premium E     SI1     59.8  61    326   3.89 3.84 2.31\n",
       "3 0.23  Good    E     VS1     56.9  65    327   4.05 4.07 2.31\n",
       "4 0.29  Premium I     VS2     62.4  58    334   4.20 4.23 2.63\n",
       "5 0.31  Good    J     SI2     63.3  58    335   4.34 4.35 2.75"
      ]
     },
     "metadata": {},
     "output_type": "display_data"
    }
   ],
   "source": [
    "head(diamonds, 5)"
   ]
  },
  {
   "cell_type": "markdown",
   "metadata": {
    "cell_style": "center"
   },
   "source": [
    "### tail\n",
    "* 맨 마지막 n개 데이터만 살펴볼 수 있습니다. "
   ]
  },
  {
   "cell_type": "code",
   "execution_count": 19,
   "metadata": {
    "ExecuteTime": {
     "end_time": "2019-06-20T15:39:22.470439Z",
     "start_time": "2019-06-20T15:39:21.290Z"
    },
    "cell_style": "center"
   },
   "outputs": [
    {
     "data": {
      "text/html": [
       "<table>\n",
       "<thead><tr><th scope=col>carat</th><th scope=col>cut</th><th scope=col>color</th><th scope=col>clarity</th><th scope=col>depth</th><th scope=col>table</th><th scope=col>price</th><th scope=col>x</th><th scope=col>y</th><th scope=col>z</th></tr></thead>\n",
       "<tbody>\n",
       "\t<tr><td>0.70     </td><td>Very Good</td><td>D        </td><td>SI1      </td><td>62.8     </td><td>60       </td><td>2757     </td><td>5.66     </td><td>5.68     </td><td>3.56     </td></tr>\n",
       "\t<tr><td>0.86     </td><td>Premium  </td><td>H        </td><td>SI2      </td><td>61.0     </td><td>58       </td><td>2757     </td><td>6.15     </td><td>6.12     </td><td>3.74     </td></tr>\n",
       "\t<tr><td>0.75     </td><td>Ideal    </td><td>D        </td><td>SI2      </td><td>62.2     </td><td>55       </td><td>2757     </td><td>5.83     </td><td>5.87     </td><td>3.64     </td></tr>\n",
       "</tbody>\n",
       "</table>\n"
      ],
      "text/latex": [
       "\\begin{tabular}{r|llllllllll}\n",
       " carat & cut & color & clarity & depth & table & price & x & y & z\\\\\n",
       "\\hline\n",
       "\t 0.70      & Very Good & D         & SI1       & 62.8      & 60        & 2757      & 5.66      & 5.68      & 3.56     \\\\\n",
       "\t 0.86      & Premium   & H         & SI2       & 61.0      & 58        & 2757      & 6.15      & 6.12      & 3.74     \\\\\n",
       "\t 0.75      & Ideal     & D         & SI2       & 62.2      & 55        & 2757      & 5.83      & 5.87      & 3.64     \\\\\n",
       "\\end{tabular}\n"
      ],
      "text/markdown": [
       "\n",
       "| carat | cut | color | clarity | depth | table | price | x | y | z |\n",
       "|---|---|---|---|---|---|---|---|---|---|\n",
       "| 0.70      | Very Good | D         | SI1       | 62.8      | 60        | 2757      | 5.66      | 5.68      | 3.56      |\n",
       "| 0.86      | Premium   | H         | SI2       | 61.0      | 58        | 2757      | 6.15      | 6.12      | 3.74      |\n",
       "| 0.75      | Ideal     | D         | SI2       | 62.2      | 55        | 2757      | 5.83      | 5.87      | 3.64      |\n",
       "\n"
      ],
      "text/plain": [
       "  carat cut       color clarity depth table price x    y    z   \n",
       "1 0.70  Very Good D     SI1     62.8  60    2757  5.66 5.68 3.56\n",
       "2 0.86  Premium   H     SI2     61.0  58    2757  6.15 6.12 3.74\n",
       "3 0.75  Ideal     D     SI2     62.2  55    2757  5.83 5.87 3.64"
      ]
     },
     "metadata": {},
     "output_type": "display_data"
    }
   ],
   "source": [
    "tail(diamonds,3)"
   ]
  },
  {
   "cell_type": "markdown",
   "metadata": {},
   "source": [
    "### str\n",
    "* 데이터의 구조(Structure)를 알 수 있습니다. "
   ]
  },
  {
   "cell_type": "code",
   "execution_count": 20,
   "metadata": {},
   "outputs": [
    {
     "name": "stdout",
     "output_type": "stream",
     "text": [
      "Classes ‘tbl_df’, ‘tbl’ and 'data.frame':\t53940 obs. of  10 variables:\n",
      " $ carat  : num  0.23 0.21 0.23 0.29 0.31 0.24 0.24 0.26 0.22 0.23 ...\n",
      " $ cut    : Ord.factor w/ 5 levels \"Fair\"<\"Good\"<..: 5 4 2 4 2 3 3 3 1 3 ...\n",
      " $ color  : Ord.factor w/ 7 levels \"D\"<\"E\"<\"F\"<\"G\"<..: 2 2 2 6 7 7 6 5 2 5 ...\n",
      " $ clarity: Ord.factor w/ 8 levels \"I1\"<\"SI2\"<\"SI1\"<..: 2 3 5 4 2 6 7 3 4 5 ...\n",
      " $ depth  : num  61.5 59.8 56.9 62.4 63.3 62.8 62.3 61.9 65.1 59.4 ...\n",
      " $ table  : num  55 61 65 58 58 57 57 55 61 61 ...\n",
      " $ price  : int  326 326 327 334 335 336 336 337 337 338 ...\n",
      " $ x      : num  3.95 3.89 4.05 4.2 4.34 3.94 3.95 4.07 3.87 4 ...\n",
      " $ y      : num  3.98 3.84 4.07 4.23 4.35 3.96 3.98 4.11 3.78 4.05 ...\n",
      " $ z      : num  2.43 2.31 2.31 2.63 2.75 2.48 2.47 2.53 2.49 2.39 ...\n"
     ]
    }
   ],
   "source": [
    "str(diamonds)"
   ]
  },
  {
   "cell_type": "markdown",
   "metadata": {},
   "source": [
    "### unique\n",
    "* 특정 컬럼의 고유한 값들을 확인할 수 있습니다. "
   ]
  },
  {
   "cell_type": "code",
   "execution_count": 25,
   "metadata": {},
   "outputs": [
    {
     "data": {
      "text/html": [
       "<ol class=list-inline>\n",
       "\t<li>SI2</li>\n",
       "\t<li>SI1</li>\n",
       "\t<li>VS1</li>\n",
       "\t<li>VS2</li>\n",
       "\t<li>VVS2</li>\n",
       "\t<li>VVS1</li>\n",
       "\t<li>I1</li>\n",
       "\t<li>IF</li>\n",
       "</ol>\n",
       "\n",
       "<details>\n",
       "\t<summary style=display:list-item;cursor:pointer>\n",
       "\t\t<strong>Levels</strong>:\n",
       "\t</summary>\n",
       "\t<ol class=list-inline>\n",
       "\t\t<li>'I1'</li>\n",
       "\t\t<li>'SI2'</li>\n",
       "\t\t<li>'SI1'</li>\n",
       "\t\t<li>'VS2'</li>\n",
       "\t\t<li>'VS1'</li>\n",
       "\t\t<li>'VVS2'</li>\n",
       "\t\t<li>'VVS1'</li>\n",
       "\t\t<li>'IF'</li>\n",
       "\t</ol>\n",
       "</details>"
      ],
      "text/latex": [
       "\\begin{enumerate*}\n",
       "\\item SI2\n",
       "\\item SI1\n",
       "\\item VS1\n",
       "\\item VS2\n",
       "\\item VVS2\n",
       "\\item VVS1\n",
       "\\item I1\n",
       "\\item IF\n",
       "\\end{enumerate*}\n",
       "\n",
       "\\emph{Levels}: \\begin{enumerate*}\n",
       "\\item 'I1'\n",
       "\\item 'SI2'\n",
       "\\item 'SI1'\n",
       "\\item 'VS2'\n",
       "\\item 'VS1'\n",
       "\\item 'VVS2'\n",
       "\\item 'VVS1'\n",
       "\\item 'IF'\n",
       "\\end{enumerate*}\n"
      ],
      "text/markdown": [
       "1. SI2\n",
       "2. SI1\n",
       "3. VS1\n",
       "4. VS2\n",
       "5. VVS2\n",
       "6. VVS1\n",
       "7. I1\n",
       "8. IF\n",
       "\n",
       "\n",
       "\n",
       "**Levels**: 1. 'I1'\n",
       "2. 'SI2'\n",
       "3. 'SI1'\n",
       "4. 'VS2'\n",
       "5. 'VS1'\n",
       "6. 'VVS2'\n",
       "7. 'VVS1'\n",
       "8. 'IF'\n",
       "\n",
       "\n"
      ],
      "text/plain": [
       "[1] SI2  SI1  VS1  VS2  VVS2 VVS1 I1   IF  \n",
       "Levels: I1 < SI2 < SI1 < VS2 < VS1 < VVS2 < VVS1 < IF"
      ]
     },
     "metadata": {},
     "output_type": "display_data"
    }
   ],
   "source": [
    "unique(diamonds$clarity)"
   ]
  },
  {
   "cell_type": "markdown",
   "metadata": {},
   "source": [
    "### n_distinct()\n",
    "* 특정 컬럼의 고유값 갯수를 확인할 수 있습니다. "
   ]
  },
  {
   "cell_type": "code",
   "execution_count": 26,
   "metadata": {},
   "outputs": [
    {
     "data": {
      "text/html": [
       "8"
      ],
      "text/latex": [
       "8"
      ],
      "text/markdown": [
       "8"
      ],
      "text/plain": [
       "[1] 8"
      ]
     },
     "metadata": {},
     "output_type": "display_data"
    }
   ],
   "source": [
    "n_distinct(diamonds$clarity)"
   ]
  },
  {
   "cell_type": "markdown",
   "metadata": {},
   "source": [
    "## 5 key tidy verse\n",
    "1. filter()\n",
    "2. arrange()\n",
    "3. select()\n",
    "4. mutate()\n",
    "5. summarise() with group_by()"
   ]
  },
  {
   "cell_type": "markdown",
   "metadata": {},
   "source": [
    "### filter()\n",
    "* 조건에 따라 **<span style = \"color:yellow\">행</span>**을 필터하는 것입니다."
   ]
  },
  {
   "cell_type": "code",
   "execution_count": 21,
   "metadata": {},
   "outputs": [
    {
     "data": {
      "text/html": [
       "<table>\n",
       "<thead><tr><th scope=col>carat</th><th scope=col>cut</th><th scope=col>color</th><th scope=col>clarity</th><th scope=col>depth</th><th scope=col>table</th><th scope=col>price</th><th scope=col>x</th><th scope=col>y</th><th scope=col>z</th></tr></thead>\n",
       "<tbody>\n",
       "\t<tr><td>0.23   </td><td>Ideal  </td><td>E      </td><td>SI2    </td><td>61.5   </td><td>55     </td><td>326    </td><td>3.95   </td><td>3.98   </td><td>2.43   </td></tr>\n",
       "\t<tr><td>0.21   </td><td>Premium</td><td>E      </td><td>SI1    </td><td>59.8   </td><td>61     </td><td>326    </td><td>3.89   </td><td>3.84   </td><td>2.31   </td></tr>\n",
       "\t<tr><td>0.23   </td><td>Good   </td><td>E      </td><td>VS1    </td><td>56.9   </td><td>65     </td><td>327    </td><td>4.05   </td><td>4.07   </td><td>2.31   </td></tr>\n",
       "</tbody>\n",
       "</table>\n"
      ],
      "text/latex": [
       "\\begin{tabular}{r|llllllllll}\n",
       " carat & cut & color & clarity & depth & table & price & x & y & z\\\\\n",
       "\\hline\n",
       "\t 0.23    & Ideal   & E       & SI2     & 61.5    & 55      & 326     & 3.95    & 3.98    & 2.43   \\\\\n",
       "\t 0.21    & Premium & E       & SI1     & 59.8    & 61      & 326     & 3.89    & 3.84    & 2.31   \\\\\n",
       "\t 0.23    & Good    & E       & VS1     & 56.9    & 65      & 327     & 4.05    & 4.07    & 2.31   \\\\\n",
       "\\end{tabular}\n"
      ],
      "text/markdown": [
       "\n",
       "| carat | cut | color | clarity | depth | table | price | x | y | z |\n",
       "|---|---|---|---|---|---|---|---|---|---|\n",
       "| 0.23    | Ideal   | E       | SI2     | 61.5    | 55      | 326     | 3.95    | 3.98    | 2.43    |\n",
       "| 0.21    | Premium | E       | SI1     | 59.8    | 61      | 326     | 3.89    | 3.84    | 2.31    |\n",
       "| 0.23    | Good    | E       | VS1     | 56.9    | 65      | 327     | 4.05    | 4.07    | 2.31    |\n",
       "\n"
      ],
      "text/plain": [
       "  carat cut     color clarity depth table price x    y    z   \n",
       "1 0.23  Ideal   E     SI2     61.5  55    326   3.95 3.98 2.43\n",
       "2 0.21  Premium E     SI1     59.8  61    326   3.89 3.84 2.31\n",
       "3 0.23  Good    E     VS1     56.9  65    327   4.05 4.07 2.31"
      ]
     },
     "metadata": {},
     "output_type": "display_data"
    }
   ],
   "source": [
    "head(diamonds,3)"
   ]
  },
  {
   "cell_type": "markdown",
   "metadata": {},
   "source": [
    "* 복합 조건도 사용할 수 있습니다. "
   ]
  },
  {
   "cell_type": "code",
   "execution_count": 34,
   "metadata": {},
   "outputs": [
    {
     "data": {
      "text/html": [
       "<table>\n",
       "<thead><tr><th scope=col>carat</th><th scope=col>cut</th><th scope=col>color</th><th scope=col>clarity</th><th scope=col>depth</th><th scope=col>table</th><th scope=col>price</th><th scope=col>x</th><th scope=col>y</th><th scope=col>z</th></tr></thead>\n",
       "<tbody>\n",
       "\t<tr><td>2.00     </td><td>Very Good</td><td>H        </td><td>SI1      </td><td>62.8     </td><td>57       </td><td>18803    </td><td>7.95     </td><td>8.00     </td><td>5.01     </td></tr>\n",
       "\t<tr><td>2.07     </td><td>Ideal    </td><td>G        </td><td>SI2      </td><td>62.5     </td><td>55       </td><td>18804    </td><td>8.20     </td><td>8.13     </td><td>5.11     </td></tr>\n",
       "\t<tr><td>1.51     </td><td>Ideal    </td><td>G        </td><td>IF       </td><td>61.7     </td><td>55       </td><td>18806    </td><td>7.37     </td><td>7.41     </td><td>4.56     </td></tr>\n",
       "\t<tr><td>2.00     </td><td>Very Good</td><td>G        </td><td>SI1      </td><td>63.5     </td><td>56       </td><td>18818    </td><td>7.90     </td><td>7.97     </td><td>5.04     </td></tr>\n",
       "\t<tr><td>2.29     </td><td>Premium  </td><td>I        </td><td>VS2      </td><td>60.8     </td><td>60       </td><td>18823    </td><td>8.50     </td><td>8.47     </td><td>5.16     </td></tr>\n",
       "</tbody>\n",
       "</table>\n"
      ],
      "text/latex": [
       "\\begin{tabular}{r|llllllllll}\n",
       " carat & cut & color & clarity & depth & table & price & x & y & z\\\\\n",
       "\\hline\n",
       "\t 2.00      & Very Good & H         & SI1       & 62.8      & 57        & 18803     & 7.95      & 8.00      & 5.01     \\\\\n",
       "\t 2.07      & Ideal     & G         & SI2       & 62.5      & 55        & 18804     & 8.20      & 8.13      & 5.11     \\\\\n",
       "\t 1.51      & Ideal     & G         & IF        & 61.7      & 55        & 18806     & 7.37      & 7.41      & 4.56     \\\\\n",
       "\t 2.00      & Very Good & G         & SI1       & 63.5      & 56        & 18818     & 7.90      & 7.97      & 5.04     \\\\\n",
       "\t 2.29      & Premium   & I         & VS2       & 60.8      & 60        & 18823     & 8.50      & 8.47      & 5.16     \\\\\n",
       "\\end{tabular}\n"
      ],
      "text/markdown": [
       "\n",
       "| carat | cut | color | clarity | depth | table | price | x | y | z |\n",
       "|---|---|---|---|---|---|---|---|---|---|\n",
       "| 2.00      | Very Good | H         | SI1       | 62.8      | 57        | 18803     | 7.95      | 8.00      | 5.01      |\n",
       "| 2.07      | Ideal     | G         | SI2       | 62.5      | 55        | 18804     | 8.20      | 8.13      | 5.11      |\n",
       "| 1.51      | Ideal     | G         | IF        | 61.7      | 55        | 18806     | 7.37      | 7.41      | 4.56      |\n",
       "| 2.00      | Very Good | G         | SI1       | 63.5      | 56        | 18818     | 7.90      | 7.97      | 5.04      |\n",
       "| 2.29      | Premium   | I         | VS2       | 60.8      | 60        | 18823     | 8.50      | 8.47      | 5.16      |\n",
       "\n"
      ],
      "text/plain": [
       "  carat cut       color clarity depth table price x    y    z   \n",
       "1 2.00  Very Good H     SI1     62.8  57    18803 7.95 8.00 5.01\n",
       "2 2.07  Ideal     G     SI2     62.5  55    18804 8.20 8.13 5.11\n",
       "3 1.51  Ideal     G     IF      61.7  55    18806 7.37 7.41 4.56\n",
       "4 2.00  Very Good G     SI1     63.5  56    18818 7.90 7.97 5.04\n",
       "5 2.29  Premium   I     VS2     60.8  60    18823 8.50 8.47 5.16"
      ]
     },
     "metadata": {},
     "output_type": "display_data"
    }
   ],
   "source": [
    "# filter(diamonds, clarity==\"SI2\")\n",
    "filter(diamonds, carat >= 0.3 & price >= 18800)"
   ]
  },
  {
   "cell_type": "markdown",
   "metadata": {},
   "source": [
    "* 조건에 의해 필터된 데이터의 갯수를 알고 싶다면?"
   ]
  },
  {
   "cell_type": "code",
   "execution_count": 40,
   "metadata": {},
   "outputs": [
    {
     "data": {
      "text/html": [
       "310"
      ],
      "text/latex": [
       "310"
      ],
      "text/markdown": [
       "310"
      ],
      "text/plain": [
       "[1] 310"
      ]
     },
     "metadata": {},
     "output_type": "display_data"
    }
   ],
   "source": [
    "\n",
    "df <- filter(diamonds, carat >= 0.3 & price >= 18000)\n",
    "\n",
    "n_distinct(df)\n"
   ]
  },
  {
   "cell_type": "markdown",
   "metadata": {},
   "source": [
    "### arrange()\n",
    "* 특정 컬럼을 기준으로 정렬할 수 있습니다. "
   ]
  },
  {
   "cell_type": "code",
   "execution_count": 47,
   "metadata": {},
   "outputs": [
    {
     "data": {
      "text/html": [
       "<table>\n",
       "<thead><tr><th scope=col>carat</th><th scope=col>cut</th><th scope=col>color</th><th scope=col>clarity</th><th scope=col>depth</th><th scope=col>table</th><th scope=col>price</th><th scope=col>x</th><th scope=col>y</th><th scope=col>z</th></tr></thead>\n",
       "<tbody>\n",
       "\t<tr><td>1.51     </td><td>Ideal    </td><td>G        </td><td>IF       </td><td>61.7     </td><td>55       </td><td>18806    </td><td>7.37     </td><td>7.41     </td><td>4.56     </td></tr>\n",
       "\t<tr><td>1.28     </td><td>Ideal    </td><td>E        </td><td>IF       </td><td>60.7     </td><td>57       </td><td>18700    </td><td>7.09     </td><td>6.99     </td><td>4.27     </td></tr>\n",
       "\t<tr><td>2.29     </td><td>Premium  </td><td>J        </td><td>IF       </td><td>61.4     </td><td>60       </td><td>18594    </td><td>8.49     </td><td>8.45     </td><td>5.20     </td></tr>\n",
       "\t<tr><td>1.50     </td><td>Very Good</td><td>F        </td><td>IF       </td><td>63.2     </td><td>58       </td><td>18552    </td><td>7.20     </td><td>7.32     </td><td>4.59     </td></tr>\n",
       "\t<tr><td>1.04     </td><td>Very Good</td><td>D        </td><td>IF       </td><td>61.3     </td><td>56       </td><td>18542    </td><td>6.53     </td><td>6.55     </td><td>4.01     </td></tr>\n",
       "\t<tr><td>1.33     </td><td>Ideal    </td><td>F        </td><td>IF       </td><td>60.2     </td><td>57       </td><td>18435    </td><td>7.12     </td><td>7.17     </td><td>4.30     </td></tr>\n",
       "\t<tr><td>2.29     </td><td>Premium  </td><td>J        </td><td>IF       </td><td>61.4     </td><td>60       </td><td>18426    </td><td>8.45     </td><td>8.49     </td><td>5.20     </td></tr>\n",
       "\t<tr><td>1.07     </td><td>Premium  </td><td>D        </td><td>IF       </td><td>60.9     </td><td>58       </td><td>18279    </td><td>6.67     </td><td>6.57     </td><td>4.03     </td></tr>\n",
       "\t<tr><td>1.09     </td><td>Very Good</td><td>D        </td><td>IF       </td><td>61.7     </td><td>58       </td><td>18231    </td><td>6.55     </td><td>6.65     </td><td>4.07     </td></tr>\n",
       "\t<tr><td>1.07     </td><td>Very Good</td><td>D        </td><td>IF       </td><td>60.9     </td><td>58       </td><td>18114    </td><td>6.57     </td><td>6.67     </td><td>4.03     </td></tr>\n",
       "</tbody>\n",
       "</table>\n"
      ],
      "text/latex": [
       "\\begin{tabular}{r|llllllllll}\n",
       " carat & cut & color & clarity & depth & table & price & x & y & z\\\\\n",
       "\\hline\n",
       "\t 1.51      & Ideal     & G         & IF        & 61.7      & 55        & 18806     & 7.37      & 7.41      & 4.56     \\\\\n",
       "\t 1.28      & Ideal     & E         & IF        & 60.7      & 57        & 18700     & 7.09      & 6.99      & 4.27     \\\\\n",
       "\t 2.29      & Premium   & J         & IF        & 61.4      & 60        & 18594     & 8.49      & 8.45      & 5.20     \\\\\n",
       "\t 1.50      & Very Good & F         & IF        & 63.2      & 58        & 18552     & 7.20      & 7.32      & 4.59     \\\\\n",
       "\t 1.04      & Very Good & D         & IF        & 61.3      & 56        & 18542     & 6.53      & 6.55      & 4.01     \\\\\n",
       "\t 1.33      & Ideal     & F         & IF        & 60.2      & 57        & 18435     & 7.12      & 7.17      & 4.30     \\\\\n",
       "\t 2.29      & Premium   & J         & IF        & 61.4      & 60        & 18426     & 8.45      & 8.49      & 5.20     \\\\\n",
       "\t 1.07      & Premium   & D         & IF        & 60.9      & 58        & 18279     & 6.67      & 6.57      & 4.03     \\\\\n",
       "\t 1.09      & Very Good & D         & IF        & 61.7      & 58        & 18231     & 6.55      & 6.65      & 4.07     \\\\\n",
       "\t 1.07      & Very Good & D         & IF        & 60.9      & 58        & 18114     & 6.57      & 6.67      & 4.03     \\\\\n",
       "\\end{tabular}\n"
      ],
      "text/markdown": [
       "\n",
       "| carat | cut | color | clarity | depth | table | price | x | y | z |\n",
       "|---|---|---|---|---|---|---|---|---|---|\n",
       "| 1.51      | Ideal     | G         | IF        | 61.7      | 55        | 18806     | 7.37      | 7.41      | 4.56      |\n",
       "| 1.28      | Ideal     | E         | IF        | 60.7      | 57        | 18700     | 7.09      | 6.99      | 4.27      |\n",
       "| 2.29      | Premium   | J         | IF        | 61.4      | 60        | 18594     | 8.49      | 8.45      | 5.20      |\n",
       "| 1.50      | Very Good | F         | IF        | 63.2      | 58        | 18552     | 7.20      | 7.32      | 4.59      |\n",
       "| 1.04      | Very Good | D         | IF        | 61.3      | 56        | 18542     | 6.53      | 6.55      | 4.01      |\n",
       "| 1.33      | Ideal     | F         | IF        | 60.2      | 57        | 18435     | 7.12      | 7.17      | 4.30      |\n",
       "| 2.29      | Premium   | J         | IF        | 61.4      | 60        | 18426     | 8.45      | 8.49      | 5.20      |\n",
       "| 1.07      | Premium   | D         | IF        | 60.9      | 58        | 18279     | 6.67      | 6.57      | 4.03      |\n",
       "| 1.09      | Very Good | D         | IF        | 61.7      | 58        | 18231     | 6.55      | 6.65      | 4.07      |\n",
       "| 1.07      | Very Good | D         | IF        | 60.9      | 58        | 18114     | 6.57      | 6.67      | 4.03      |\n",
       "\n"
      ],
      "text/plain": [
       "   carat cut       color clarity depth table price x    y    z   \n",
       "1  1.51  Ideal     G     IF      61.7  55    18806 7.37 7.41 4.56\n",
       "2  1.28  Ideal     E     IF      60.7  57    18700 7.09 6.99 4.27\n",
       "3  2.29  Premium   J     IF      61.4  60    18594 8.49 8.45 5.20\n",
       "4  1.50  Very Good F     IF      63.2  58    18552 7.20 7.32 4.59\n",
       "5  1.04  Very Good D     IF      61.3  56    18542 6.53 6.55 4.01\n",
       "6  1.33  Ideal     F     IF      60.2  57    18435 7.12 7.17 4.30\n",
       "7  2.29  Premium   J     IF      61.4  60    18426 8.45 8.49 5.20\n",
       "8  1.07  Premium   D     IF      60.9  58    18279 6.67 6.57 4.03\n",
       "9  1.09  Very Good D     IF      61.7  58    18231 6.55 6.65 4.07\n",
       "10 1.07  Very Good D     IF      60.9  58    18114 6.57 6.67 4.03"
      ]
     },
     "metadata": {},
     "output_type": "display_data"
    }
   ],
   "source": [
    "# arrange(diamonds, price) # 오름차순이 기본\n",
    "\n",
    "# arrange(diamonds, desc(clarity)) # 내림차순으로 정렬할 때\n",
    "\n",
    "df <- arrange(diamonds, desc(clarity), desc(price)) # 복합적인 조건으로 정렬할 수도 있습니다.\n",
    "\n",
    "head(df, 10)\n"
   ]
  },
  {
   "cell_type": "markdown",
   "metadata": {},
   "source": [
    "### select()\n",
    "* 열을 선택하는 것입니다. 일부 열만 선택하여 새로운 DataFrame을 만들게 됩니다."
   ]
  },
  {
   "cell_type": "code",
   "execution_count": 51,
   "metadata": {},
   "outputs": [
    {
     "data": {
      "text/html": [
       "<table>\n",
       "<thead><tr><th scope=col>cut</th><th scope=col>color</th><th scope=col>price</th></tr></thead>\n",
       "<tbody>\n",
       "\t<tr><td>Ideal    </td><td>E        </td><td>326      </td></tr>\n",
       "\t<tr><td>Premium  </td><td>E        </td><td>326      </td></tr>\n",
       "\t<tr><td>Good     </td><td>E        </td><td>327      </td></tr>\n",
       "\t<tr><td>Premium  </td><td>I        </td><td>334      </td></tr>\n",
       "\t<tr><td>Good     </td><td>J        </td><td>335      </td></tr>\n",
       "\t<tr><td>Very Good</td><td>J        </td><td>336      </td></tr>\n",
       "\t<tr><td>Very Good</td><td>I        </td><td>336      </td></tr>\n",
       "\t<tr><td>Very Good</td><td>H        </td><td>337      </td></tr>\n",
       "\t<tr><td>Fair     </td><td>E        </td><td>337      </td></tr>\n",
       "\t<tr><td>Very Good</td><td>H        </td><td>338      </td></tr>\n",
       "</tbody>\n",
       "</table>\n"
      ],
      "text/latex": [
       "\\begin{tabular}{r|lll}\n",
       " cut & color & price\\\\\n",
       "\\hline\n",
       "\t Ideal     & E         & 326      \\\\\n",
       "\t Premium   & E         & 326      \\\\\n",
       "\t Good      & E         & 327      \\\\\n",
       "\t Premium   & I         & 334      \\\\\n",
       "\t Good      & J         & 335      \\\\\n",
       "\t Very Good & J         & 336      \\\\\n",
       "\t Very Good & I         & 336      \\\\\n",
       "\t Very Good & H         & 337      \\\\\n",
       "\t Fair      & E         & 337      \\\\\n",
       "\t Very Good & H         & 338      \\\\\n",
       "\\end{tabular}\n"
      ],
      "text/markdown": [
       "\n",
       "| cut | color | price |\n",
       "|---|---|---|\n",
       "| Ideal     | E         | 326       |\n",
       "| Premium   | E         | 326       |\n",
       "| Good      | E         | 327       |\n",
       "| Premium   | I         | 334       |\n",
       "| Good      | J         | 335       |\n",
       "| Very Good | J         | 336       |\n",
       "| Very Good | I         | 336       |\n",
       "| Very Good | H         | 337       |\n",
       "| Fair      | E         | 337       |\n",
       "| Very Good | H         | 338       |\n",
       "\n"
      ],
      "text/plain": [
       "   cut       color price\n",
       "1  Ideal     E     326  \n",
       "2  Premium   E     326  \n",
       "3  Good      E     327  \n",
       "4  Premium   I     334  \n",
       "5  Good      J     335  \n",
       "6  Very Good J     336  \n",
       "7  Very Good I     336  \n",
       "8  Very Good H     337  \n",
       "9  Fair      E     337  \n",
       "10 Very Good H     338  "
      ]
     },
     "metadata": {},
     "output_type": "display_data"
    }
   ],
   "source": [
    "df <- select(diamonds, cut, color, price)\n",
    "\n",
    "head(df, 10)"
   ]
  },
  {
   "cell_type": "markdown",
   "metadata": {},
   "source": [
    "* 선택하면서 이름을 변경할 수 있습니다. "
   ]
  },
  {
   "cell_type": "code",
   "execution_count": 53,
   "metadata": {},
   "outputs": [
    {
     "data": {
      "text/html": [
       "<table>\n",
       "<thead><tr><th scope=col>c</th><th scope=col>l</th><th scope=col>p</th></tr></thead>\n",
       "<tbody>\n",
       "\t<tr><td>Ideal  </td><td>E      </td><td>326    </td></tr>\n",
       "\t<tr><td>Premium</td><td>E      </td><td>326    </td></tr>\n",
       "\t<tr><td>Good   </td><td>E      </td><td>327    </td></tr>\n",
       "\t<tr><td>Premium</td><td>I      </td><td>334    </td></tr>\n",
       "\t<tr><td>Good   </td><td>J      </td><td>335    </td></tr>\n",
       "</tbody>\n",
       "</table>\n"
      ],
      "text/latex": [
       "\\begin{tabular}{r|lll}\n",
       " c & l & p\\\\\n",
       "\\hline\n",
       "\t Ideal   & E       & 326    \\\\\n",
       "\t Premium & E       & 326    \\\\\n",
       "\t Good    & E       & 327    \\\\\n",
       "\t Premium & I       & 334    \\\\\n",
       "\t Good    & J       & 335    \\\\\n",
       "\\end{tabular}\n"
      ],
      "text/markdown": [
       "\n",
       "| c | l | p |\n",
       "|---|---|---|\n",
       "| Ideal   | E       | 326     |\n",
       "| Premium | E       | 326     |\n",
       "| Good    | E       | 327     |\n",
       "| Premium | I       | 334     |\n",
       "| Good    | J       | 335     |\n",
       "\n"
      ],
      "text/plain": [
       "  c       l p  \n",
       "1 Ideal   E 326\n",
       "2 Premium E 326\n",
       "3 Good    E 327\n",
       "4 Premium I 334\n",
       "5 Good    J 335"
      ]
     },
     "metadata": {},
     "output_type": "display_data"
    }
   ],
   "source": [
    "df <- select(diamonds, c = cut, l = color, p = price)\n",
    "\n",
    "head(df, 5)"
   ]
  },
  {
   "cell_type": "markdown",
   "metadata": {},
   "source": [
    "### mutate()\n",
    "* 열을 새로 만들 수 있습니다.\n",
    "* 기존 열들의 계산식을 사용할 수 있습니다.\n",
    "* 새로 만들어진 열의 이름을 또 사용할 수 있습니다. "
   ]
  },
  {
   "cell_type": "code",
   "execution_count": 56,
   "metadata": {},
   "outputs": [
    {
     "data": {
      "text/html": [
       "<table>\n",
       "<thead><tr><th scope=col>carat</th><th scope=col>cut</th><th scope=col>color</th><th scope=col>clarity</th><th scope=col>depth</th><th scope=col>table</th><th scope=col>price</th><th scope=col>x</th><th scope=col>y</th><th scope=col>z</th><th scope=col>x_and_y</th></tr></thead>\n",
       "<tbody>\n",
       "\t<tr><td>0.23   </td><td>Ideal  </td><td>E      </td><td>SI2    </td><td>61.5   </td><td>55     </td><td>326    </td><td>3.95   </td><td>3.98   </td><td>2.43   </td><td>7.93   </td></tr>\n",
       "\t<tr><td>0.21   </td><td>Premium</td><td>E      </td><td>SI1    </td><td>59.8   </td><td>61     </td><td>326    </td><td>3.89   </td><td>3.84   </td><td>2.31   </td><td>7.73   </td></tr>\n",
       "\t<tr><td>0.23   </td><td>Good   </td><td>E      </td><td>VS1    </td><td>56.9   </td><td>65     </td><td>327    </td><td>4.05   </td><td>4.07   </td><td>2.31   </td><td>8.12   </td></tr>\n",
       "\t<tr><td>0.29   </td><td>Premium</td><td>I      </td><td>VS2    </td><td>62.4   </td><td>58     </td><td>334    </td><td>4.20   </td><td>4.23   </td><td>2.63   </td><td>8.43   </td></tr>\n",
       "\t<tr><td>0.31   </td><td>Good   </td><td>J      </td><td>SI2    </td><td>63.3   </td><td>58     </td><td>335    </td><td>4.34   </td><td>4.35   </td><td>2.75   </td><td>8.69   </td></tr>\n",
       "</tbody>\n",
       "</table>\n"
      ],
      "text/latex": [
       "\\begin{tabular}{r|lllllllllll}\n",
       " carat & cut & color & clarity & depth & table & price & x & y & z & x\\_and\\_y\\\\\n",
       "\\hline\n",
       "\t 0.23    & Ideal   & E       & SI2     & 61.5    & 55      & 326     & 3.95    & 3.98    & 2.43    & 7.93   \\\\\n",
       "\t 0.21    & Premium & E       & SI1     & 59.8    & 61      & 326     & 3.89    & 3.84    & 2.31    & 7.73   \\\\\n",
       "\t 0.23    & Good    & E       & VS1     & 56.9    & 65      & 327     & 4.05    & 4.07    & 2.31    & 8.12   \\\\\n",
       "\t 0.29    & Premium & I       & VS2     & 62.4    & 58      & 334     & 4.20    & 4.23    & 2.63    & 8.43   \\\\\n",
       "\t 0.31    & Good    & J       & SI2     & 63.3    & 58      & 335     & 4.34    & 4.35    & 2.75    & 8.69   \\\\\n",
       "\\end{tabular}\n"
      ],
      "text/markdown": [
       "\n",
       "| carat | cut | color | clarity | depth | table | price | x | y | z | x_and_y |\n",
       "|---|---|---|---|---|---|---|---|---|---|---|\n",
       "| 0.23    | Ideal   | E       | SI2     | 61.5    | 55      | 326     | 3.95    | 3.98    | 2.43    | 7.93    |\n",
       "| 0.21    | Premium | E       | SI1     | 59.8    | 61      | 326     | 3.89    | 3.84    | 2.31    | 7.73    |\n",
       "| 0.23    | Good    | E       | VS1     | 56.9    | 65      | 327     | 4.05    | 4.07    | 2.31    | 8.12    |\n",
       "| 0.29    | Premium | I       | VS2     | 62.4    | 58      | 334     | 4.20    | 4.23    | 2.63    | 8.43    |\n",
       "| 0.31    | Good    | J       | SI2     | 63.3    | 58      | 335     | 4.34    | 4.35    | 2.75    | 8.69    |\n",
       "\n"
      ],
      "text/plain": [
       "  carat cut     color clarity depth table price x    y    z    x_and_y\n",
       "1 0.23  Ideal   E     SI2     61.5  55    326   3.95 3.98 2.43 7.93   \n",
       "2 0.21  Premium E     SI1     59.8  61    326   3.89 3.84 2.31 7.73   \n",
       "3 0.23  Good    E     VS1     56.9  65    327   4.05 4.07 2.31 8.12   \n",
       "4 0.29  Premium I     VS2     62.4  58    334   4.20 4.23 2.63 8.43   \n",
       "5 0.31  Good    J     SI2     63.3  58    335   4.34 4.35 2.75 8.69   "
      ]
     },
     "metadata": {},
     "output_type": "display_data"
    }
   ],
   "source": [
    "df <- mutate(diamonds, x_and_y = x+y)\n",
    "\n",
    "head(df, 5)"
   ]
  },
  {
   "cell_type": "markdown",
   "metadata": {},
   "source": [
    "* 열 이름 재사용"
   ]
  },
  {
   "cell_type": "code",
   "execution_count": 58,
   "metadata": {},
   "outputs": [
    {
     "data": {
      "text/html": [
       "<table>\n",
       "<thead><tr><th scope=col>carat</th><th scope=col>cut</th><th scope=col>color</th><th scope=col>clarity</th><th scope=col>depth</th><th scope=col>table</th><th scope=col>price</th><th scope=col>x</th><th scope=col>y</th><th scope=col>z</th><th scope=col>x_and_y</th><th scope=col>q</th></tr></thead>\n",
       "<tbody>\n",
       "\t<tr><td>0.23      </td><td>Ideal     </td><td>E         </td><td>SI2       </td><td>61.5      </td><td>55        </td><td>326       </td><td>3.95      </td><td>3.98      </td><td>2.43      </td><td>7.93      </td><td>0.02432515</td></tr>\n",
       "\t<tr><td>0.21      </td><td>Premium   </td><td>E         </td><td>SI1       </td><td>59.8      </td><td>61        </td><td>326       </td><td>3.89      </td><td>3.84      </td><td>2.31      </td><td>7.73      </td><td>0.02371166</td></tr>\n",
       "\t<tr><td>0.23      </td><td>Good      </td><td>E         </td><td>VS1       </td><td>56.9      </td><td>65        </td><td>327       </td><td>4.05      </td><td>4.07      </td><td>2.31      </td><td>8.12      </td><td>0.02483180</td></tr>\n",
       "\t<tr><td>0.29      </td><td>Premium   </td><td>I         </td><td>VS2       </td><td>62.4      </td><td>58        </td><td>334       </td><td>4.20      </td><td>4.23      </td><td>2.63      </td><td>8.43      </td><td>0.02523952</td></tr>\n",
       "\t<tr><td>0.31      </td><td>Good      </td><td>J         </td><td>SI2       </td><td>63.3      </td><td>58        </td><td>335       </td><td>4.34      </td><td>4.35      </td><td>2.75      </td><td>8.69      </td><td>0.02594030</td></tr>\n",
       "</tbody>\n",
       "</table>\n"
      ],
      "text/latex": [
       "\\begin{tabular}{r|llllllllllll}\n",
       " carat & cut & color & clarity & depth & table & price & x & y & z & x\\_and\\_y & q\\\\\n",
       "\\hline\n",
       "\t 0.23       & Ideal      & E          & SI2        & 61.5       & 55         & 326        & 3.95       & 3.98       & 2.43       & 7.93       & 0.02432515\\\\\n",
       "\t 0.21       & Premium    & E          & SI1        & 59.8       & 61         & 326        & 3.89       & 3.84       & 2.31       & 7.73       & 0.02371166\\\\\n",
       "\t 0.23       & Good       & E          & VS1        & 56.9       & 65         & 327        & 4.05       & 4.07       & 2.31       & 8.12       & 0.02483180\\\\\n",
       "\t 0.29       & Premium    & I          & VS2        & 62.4       & 58         & 334        & 4.20       & 4.23       & 2.63       & 8.43       & 0.02523952\\\\\n",
       "\t 0.31       & Good       & J          & SI2        & 63.3       & 58         & 335        & 4.34       & 4.35       & 2.75       & 8.69       & 0.02594030\\\\\n",
       "\\end{tabular}\n"
      ],
      "text/markdown": [
       "\n",
       "| carat | cut | color | clarity | depth | table | price | x | y | z | x_and_y | q |\n",
       "|---|---|---|---|---|---|---|---|---|---|---|---|\n",
       "| 0.23       | Ideal      | E          | SI2        | 61.5       | 55         | 326        | 3.95       | 3.98       | 2.43       | 7.93       | 0.02432515 |\n",
       "| 0.21       | Premium    | E          | SI1        | 59.8       | 61         | 326        | 3.89       | 3.84       | 2.31       | 7.73       | 0.02371166 |\n",
       "| 0.23       | Good       | E          | VS1        | 56.9       | 65         | 327        | 4.05       | 4.07       | 2.31       | 8.12       | 0.02483180 |\n",
       "| 0.29       | Premium    | I          | VS2        | 62.4       | 58         | 334        | 4.20       | 4.23       | 2.63       | 8.43       | 0.02523952 |\n",
       "| 0.31       | Good       | J          | SI2        | 63.3       | 58         | 335        | 4.34       | 4.35       | 2.75       | 8.69       | 0.02594030 |\n",
       "\n"
      ],
      "text/plain": [
       "  carat cut     color clarity depth table price x    y    z    x_and_y\n",
       "1 0.23  Ideal   E     SI2     61.5  55    326   3.95 3.98 2.43 7.93   \n",
       "2 0.21  Premium E     SI1     59.8  61    326   3.89 3.84 2.31 7.73   \n",
       "3 0.23  Good    E     VS1     56.9  65    327   4.05 4.07 2.31 8.12   \n",
       "4 0.29  Premium I     VS2     62.4  58    334   4.20 4.23 2.63 8.43   \n",
       "5 0.31  Good    J     SI2     63.3  58    335   4.34 4.35 2.75 8.69   \n",
       "  q         \n",
       "1 0.02432515\n",
       "2 0.02371166\n",
       "3 0.02483180\n",
       "4 0.02523952\n",
       "5 0.02594030"
      ]
     },
     "metadata": {},
     "output_type": "display_data"
    }
   ],
   "source": [
    "df <- mutate(diamonds, x_and_y = x+y, q = x_and_y/price)\n",
    "head(df, 5)"
   ]
  },
  {
   "cell_type": "markdown",
   "metadata": {},
   "source": [
    "### summarise() and group_by()\n",
    "* 엑셀의 피봇 기능과 유사합니다.\n",
    "* summarise()는 계산 함수를 사용해서 값을 산출합니다.\n",
    "* 여기에 group_by() 함수를 사용하면 특정 그룹별로 값을 산출할 수 있습니다. "
   ]
  },
  {
   "cell_type": "code",
   "execution_count": 63,
   "metadata": {},
   "outputs": [
    {
     "data": {
      "text/html": [
       "<table>\n",
       "<thead><tr><th scope=col>SUM</th></tr></thead>\n",
       "<tbody>\n",
       "\t<tr><td>212135217</td></tr>\n",
       "</tbody>\n",
       "</table>\n"
      ],
      "text/latex": [
       "\\begin{tabular}{r|l}\n",
       " SUM\\\\\n",
       "\\hline\n",
       "\t 212135217\\\\\n",
       "\\end{tabular}\n"
      ],
      "text/markdown": [
       "\n",
       "| SUM |\n",
       "|---|\n",
       "| 212135217 |\n",
       "\n"
      ],
      "text/plain": [
       "  SUM      \n",
       "1 212135217"
      ]
     },
     "metadata": {},
     "output_type": "display_data"
    },
    {
     "data": {
      "text/html": [
       "<table>\n",
       "<thead><tr><th scope=col>SUM</th><th scope=col>AVG</th></tr></thead>\n",
       "<tbody>\n",
       "\t<tr><td>212135217</td><td>3932.8   </td></tr>\n",
       "</tbody>\n",
       "</table>\n"
      ],
      "text/latex": [
       "\\begin{tabular}{r|ll}\n",
       " SUM & AVG\\\\\n",
       "\\hline\n",
       "\t 212135217 & 3932.8   \\\\\n",
       "\\end{tabular}\n"
      ],
      "text/markdown": [
       "\n",
       "| SUM | AVG |\n",
       "|---|---|\n",
       "| 212135217 | 3932.8    |\n",
       "\n"
      ],
      "text/plain": [
       "  SUM       AVG   \n",
       "1 212135217 3932.8"
      ]
     },
     "metadata": {},
     "output_type": "display_data"
    }
   ],
   "source": [
    "summarise(diamonds, SUM = sum(price))\n",
    "\n",
    "# 여러 계산 값을 한꺼번에 구할 수 있습니다. \n",
    "summarise(diamonds, SUM = sum(price), AVG = mean(price))"
   ]
  },
  {
   "cell_type": "markdown",
   "metadata": {},
   "source": [
    "* group_by()는 summarise()의 계산 대상 그룹을 정의하는 함수입니다."
   ]
  },
  {
   "cell_type": "code",
   "execution_count": 66,
   "metadata": {},
   "outputs": [
    {
     "data": {
      "text/html": [
       "<table>\n",
       "<thead><tr><th scope=col>color</th><th scope=col>SUM</th></tr></thead>\n",
       "<tbody>\n",
       "\t<tr><td>D       </td><td>21476439</td></tr>\n",
       "\t<tr><td>E       </td><td>30142944</td></tr>\n",
       "\t<tr><td>F       </td><td>35542866</td></tr>\n",
       "\t<tr><td>G       </td><td>45158240</td></tr>\n",
       "\t<tr><td>H       </td><td>37257301</td></tr>\n",
       "\t<tr><td>I       </td><td>27608146</td></tr>\n",
       "\t<tr><td>J       </td><td>14949281</td></tr>\n",
       "</tbody>\n",
       "</table>\n"
      ],
      "text/latex": [
       "\\begin{tabular}{r|ll}\n",
       " color & SUM\\\\\n",
       "\\hline\n",
       "\t D        & 21476439\\\\\n",
       "\t E        & 30142944\\\\\n",
       "\t F        & 35542866\\\\\n",
       "\t G        & 45158240\\\\\n",
       "\t H        & 37257301\\\\\n",
       "\t I        & 27608146\\\\\n",
       "\t J        & 14949281\\\\\n",
       "\\end{tabular}\n"
      ],
      "text/markdown": [
       "\n",
       "| color | SUM |\n",
       "|---|---|\n",
       "| D        | 21476439 |\n",
       "| E        | 30142944 |\n",
       "| F        | 35542866 |\n",
       "| G        | 45158240 |\n",
       "| H        | 37257301 |\n",
       "| I        | 27608146 |\n",
       "| J        | 14949281 |\n",
       "\n"
      ],
      "text/plain": [
       "  color SUM     \n",
       "1 D     21476439\n",
       "2 E     30142944\n",
       "3 F     35542866\n",
       "4 G     45158240\n",
       "5 H     37257301\n",
       "6 I     27608146\n",
       "7 J     14949281"
      ]
     },
     "metadata": {},
     "output_type": "display_data"
    },
    {
     "data": {
      "text/html": [
       "<table>\n",
       "<thead><tr><th scope=col>color</th><th scope=col>SUM</th><th scope=col>AVG</th></tr></thead>\n",
       "<tbody>\n",
       "\t<tr><td>D       </td><td>21476439</td><td>3169.954</td></tr>\n",
       "\t<tr><td>E       </td><td>30142944</td><td>3076.752</td></tr>\n",
       "\t<tr><td>F       </td><td>35542866</td><td>3724.886</td></tr>\n",
       "\t<tr><td>G       </td><td>45158240</td><td>3999.136</td></tr>\n",
       "\t<tr><td>H       </td><td>37257301</td><td>4486.669</td></tr>\n",
       "\t<tr><td>I       </td><td>27608146</td><td>5091.875</td></tr>\n",
       "\t<tr><td>J       </td><td>14949281</td><td>5323.818</td></tr>\n",
       "</tbody>\n",
       "</table>\n"
      ],
      "text/latex": [
       "\\begin{tabular}{r|lll}\n",
       " color & SUM & AVG\\\\\n",
       "\\hline\n",
       "\t D        & 21476439 & 3169.954\\\\\n",
       "\t E        & 30142944 & 3076.752\\\\\n",
       "\t F        & 35542866 & 3724.886\\\\\n",
       "\t G        & 45158240 & 3999.136\\\\\n",
       "\t H        & 37257301 & 4486.669\\\\\n",
       "\t I        & 27608146 & 5091.875\\\\\n",
       "\t J        & 14949281 & 5323.818\\\\\n",
       "\\end{tabular}\n"
      ],
      "text/markdown": [
       "\n",
       "| color | SUM | AVG |\n",
       "|---|---|---|\n",
       "| D        | 21476439 | 3169.954 |\n",
       "| E        | 30142944 | 3076.752 |\n",
       "| F        | 35542866 | 3724.886 |\n",
       "| G        | 45158240 | 3999.136 |\n",
       "| H        | 37257301 | 4486.669 |\n",
       "| I        | 27608146 | 5091.875 |\n",
       "| J        | 14949281 | 5323.818 |\n",
       "\n"
      ],
      "text/plain": [
       "  color SUM      AVG     \n",
       "1 D     21476439 3169.954\n",
       "2 E     30142944 3076.752\n",
       "3 F     35542866 3724.886\n",
       "4 G     45158240 3999.136\n",
       "5 H     37257301 4486.669\n",
       "6 I     27608146 5091.875\n",
       "7 J     14949281 5323.818"
      ]
     },
     "metadata": {},
     "output_type": "display_data"
    }
   ],
   "source": [
    "diamonds_group = group_by(diamonds, color)\n",
    "\n",
    "summarise(diamonds_group, SUM = sum(price))\n",
    "\n",
    "# 여러 계산 값을 한꺼번에 구할 수 있습니다. \n",
    "summarise(diamonds_group, SUM = sum(price), AVG = mean(price))"
   ]
  },
  {
   "cell_type": "markdown",
   "metadata": {},
   "source": [
    "## pipe operator : %>%\n",
    "* 위에서 실습하는 동안 알 수 있듯이, tidy verse를 사용하는 동안 중간에 만들어지는 데이터를 변수로 저장해야 합니다.\n",
    "* 저장된 변수를 다른 tidy verse에서 input data frame으로 사용하여 결과를 산출합니다.\n",
    "* 이와 같은 반복된 과정에서 발생하는 문제는 다음과 같은 것이 있습니다.\n",
    "    * 중간에 계속 변수를 저장해야 하기 때문에 자원 낭비가 있고, 분석 과정에서 실수가 발생할 수 있다.\n",
    "    * 양파껍질 같이 함수가 nested 구조가 되어 직관적인 분석을 하기가 어렵다.\n"
   ]
  },
  {
   "cell_type": "markdown",
   "metadata": {},
   "source": [
    "### without pipe operator\n",
    "* 예를 들어, 아래와 같은 순서로 분석을 해보자.\n",
    "    1. select()를 이용해서 특정 컬럼을 선택하여 새로운 data frame을 생성함\n",
    "    2. filter()를 이용해서 특정 행을 선택하여 새로운 data frame을 생성함\n",
    "    3. group_by()를 이용해서 결과 산출을 위한 그룹을 정의하여 새로운 data frame을 생성함\n",
    "    4. summarise()를 이용해서 결과 산출 함수를 생성한 그룹별로 구하여 테이블을 생성함\n",
    "    5. arrange()를 이용하여 산출된 결과를 정렬함."
   ]
  },
  {
   "cell_type": "code",
   "execution_count": 83,
   "metadata": {},
   "outputs": [
    {
     "data": {
      "text/html": [
       "<table>\n",
       "<thead><tr><th scope=col>color</th><th scope=col>clarity</th><th scope=col>depth</th><th scope=col>price</th></tr></thead>\n",
       "<tbody>\n",
       "\t<tr><td>E   </td><td>SI2 </td><td>61.5</td><td>326 </td></tr>\n",
       "\t<tr><td>E   </td><td>SI1 </td><td>59.8</td><td>326 </td></tr>\n",
       "\t<tr><td>E   </td><td>VS1 </td><td>56.9</td><td>327 </td></tr>\n",
       "</tbody>\n",
       "</table>\n"
      ],
      "text/latex": [
       "\\begin{tabular}{r|llll}\n",
       " color & clarity & depth & price\\\\\n",
       "\\hline\n",
       "\t E    & SI2  & 61.5 & 326 \\\\\n",
       "\t E    & SI1  & 59.8 & 326 \\\\\n",
       "\t E    & VS1  & 56.9 & 327 \\\\\n",
       "\\end{tabular}\n"
      ],
      "text/markdown": [
       "\n",
       "| color | clarity | depth | price |\n",
       "|---|---|---|---|\n",
       "| E    | SI2  | 61.5 | 326  |\n",
       "| E    | SI1  | 59.8 | 326  |\n",
       "| E    | VS1  | 56.9 | 327  |\n",
       "\n"
      ],
      "text/plain": [
       "  color clarity depth price\n",
       "1 E     SI2     61.5  326  \n",
       "2 E     SI1     59.8  326  \n",
       "3 E     VS1     56.9  327  "
      ]
     },
     "metadata": {},
     "output_type": "display_data"
    }
   ],
   "source": [
    "#1\n",
    "d_selected <- select(diamonds, color, clarity, depth, price)\n",
    "head(d_selected,3)"
   ]
  },
  {
   "cell_type": "code",
   "execution_count": 87,
   "metadata": {},
   "outputs": [
    {
     "data": {
      "text/html": [
       "<table>\n",
       "<thead><tr><th scope=col>color</th><th scope=col>clarity</th><th scope=col>depth</th><th scope=col>price</th></tr></thead>\n",
       "<tbody>\n",
       "\t<tr><td>H   </td><td>VS2 </td><td>71.6</td><td>3593</td></tr>\n",
       "\t<tr><td>I   </td><td>SI2 </td><td>70.1</td><td>4328</td></tr>\n",
       "\t<tr><td>I   </td><td>I1  </td><td>71.3</td><td>4368</td></tr>\n",
       "</tbody>\n",
       "</table>\n"
      ],
      "text/latex": [
       "\\begin{tabular}{r|llll}\n",
       " color & clarity & depth & price\\\\\n",
       "\\hline\n",
       "\t H    & VS2  & 71.6 & 3593\\\\\n",
       "\t I    & SI2  & 70.1 & 4328\\\\\n",
       "\t I    & I1   & 71.3 & 4368\\\\\n",
       "\\end{tabular}\n"
      ],
      "text/markdown": [
       "\n",
       "| color | clarity | depth | price |\n",
       "|---|---|---|---|\n",
       "| H    | VS2  | 71.6 | 3593 |\n",
       "| I    | SI2  | 70.1 | 4328 |\n",
       "| I    | I1   | 71.3 | 4368 |\n",
       "\n"
      ],
      "text/plain": [
       "  color clarity depth price\n",
       "1 H     VS2     71.6  3593 \n",
       "2 I     SI2     70.1  4328 \n",
       "3 I     I1      71.3  4368 "
      ]
     },
     "metadata": {},
     "output_type": "display_data"
    },
    {
     "name": "stdout",
     "output_type": "stream",
     "text": [
      "Classes ‘tbl_df’, ‘tbl’ and 'data.frame':\t22 obs. of  4 variables:\n",
      " $ color  : Ord.factor w/ 7 levels \"D\"<\"E\"<\"F\"<\"G\"<..: 5 6 6 1 5 7 4 5 5 3 ...\n",
      " $ clarity: Ord.factor w/ 8 levels \"I1\"<\"SI2\"<\"SI1\"<..: 4 2 1 3 5 1 1 1 1 2 ...\n",
      " $ depth  : num  71.6 70.1 71.3 70.6 71.8 70 70.2 70.1 70.5 70.2 ...\n",
      " $ price  : int  3593 4328 4368 4398 4455 5083 6315 6564 6860 15351 ...\n"
     ]
    }
   ],
   "source": [
    "#2\n",
    "d_selected_filtered <- filter(d_selected, price >= 1000 & depth >= 70)\n",
    "head(d_selected_filtered,3)\n",
    "str(d_selected_filtered)"
   ]
  },
  {
   "cell_type": "code",
   "execution_count": 86,
   "metadata": {},
   "outputs": [
    {
     "data": {
      "text/html": [
       "<table>\n",
       "<thead><tr><th scope=col>color</th><th scope=col>clarity</th><th scope=col>depth</th><th scope=col>price</th></tr></thead>\n",
       "<tbody>\n",
       "\t<tr><td>H   </td><td>VS2 </td><td>71.6</td><td>3593</td></tr>\n",
       "\t<tr><td>I   </td><td>SI2 </td><td>70.1</td><td>4328</td></tr>\n",
       "\t<tr><td>I   </td><td>I1  </td><td>71.3</td><td>4368</td></tr>\n",
       "</tbody>\n",
       "</table>\n"
      ],
      "text/latex": [
       "\\begin{tabular}{r|llll}\n",
       " color & clarity & depth & price\\\\\n",
       "\\hline\n",
       "\t H    & VS2  & 71.6 & 3593\\\\\n",
       "\t I    & SI2  & 70.1 & 4328\\\\\n",
       "\t I    & I1   & 71.3 & 4368\\\\\n",
       "\\end{tabular}\n"
      ],
      "text/markdown": [
       "\n",
       "| color | clarity | depth | price |\n",
       "|---|---|---|---|\n",
       "| H    | VS2  | 71.6 | 3593 |\n",
       "| I    | SI2  | 70.1 | 4328 |\n",
       "| I    | I1   | 71.3 | 4368 |\n",
       "\n"
      ],
      "text/plain": [
       "  color clarity depth price\n",
       "1 H     VS2     71.6  3593 \n",
       "2 I     SI2     70.1  4328 \n",
       "3 I     I1      71.3  4368 "
      ]
     },
     "metadata": {},
     "output_type": "display_data"
    },
    {
     "name": "stdout",
     "output_type": "stream",
     "text": [
      "Classes ‘grouped_df’, ‘tbl_df’, ‘tbl’ and 'data.frame':\t22 obs. of  4 variables:\n",
      " $ color  : Ord.factor w/ 7 levels \"D\"<\"E\"<\"F\"<\"G\"<..: 5 6 6 1 5 7 4 5 5 3 ...\n",
      " $ clarity: Ord.factor w/ 8 levels \"I1\"<\"SI2\"<\"SI1\"<..: 4 2 1 3 5 1 1 1 1 2 ...\n",
      " $ depth  : num  71.6 70.1 71.3 70.6 71.8 70 70.2 70.1 70.5 70.2 ...\n",
      " $ price  : int  3593 4328 4368 4398 4455 5083 6315 6564 6860 15351 ...\n",
      " - attr(*, \"groups\")=Classes ‘tbl_df’, ‘tbl’ and 'data.frame':\t7 obs. of  2 variables:\n",
      "  ..$ color: Ord.factor w/ 7 levels \"D\"<\"E\"<\"F\"<\"G\"<..: 1 2 3 4 5 6 7\n",
      "  ..$ .rows:List of 7\n",
      "  .. ..$ : int  4 15\n",
      "  .. ..$ : int  13 17 20 21\n",
      "  .. ..$ : int 10\n",
      "  .. ..$ : int  7 11 18 19 22\n",
      "  .. ..$ : int  1 5 8 9 14\n",
      "  .. ..$ : int  2 3 12\n",
      "  .. ..$ : int  6 16\n",
      "  ..- attr(*, \".drop\")= logi TRUE\n"
     ]
    }
   ],
   "source": [
    "#3\n",
    "d_selected_filtered_group <- group_by(d_selected_filtered, color)\n",
    "head(d_selected_filtered_group,3)\n",
    "str(d_selected_filtered_group)"
   ]
  },
  {
   "cell_type": "code",
   "execution_count": 90,
   "metadata": {},
   "outputs": [
    {
     "data": {
      "text/html": [
       "<table>\n",
       "<thead><tr><th scope=col>color</th><th scope=col>SUM</th><th scope=col>AVG</th></tr></thead>\n",
       "<tbody>\n",
       "\t<tr><td>D        </td><td> 6094    </td><td> 3047.000</td></tr>\n",
       "\t<tr><td>E        </td><td> 8248    </td><td> 2062.000</td></tr>\n",
       "\t<tr><td>F        </td><td>15351    </td><td>15351.000</td></tr>\n",
       "\t<tr><td>G        </td><td>32344    </td><td> 6468.800</td></tr>\n",
       "\t<tr><td>H        </td><td>22746    </td><td> 4549.200</td></tr>\n",
       "\t<tr><td>I        </td><td> 9745    </td><td> 3248.333</td></tr>\n",
       "\t<tr><td>J        </td><td> 6872    </td><td> 3436.000</td></tr>\n",
       "</tbody>\n",
       "</table>\n"
      ],
      "text/latex": [
       "\\begin{tabular}{r|lll}\n",
       " color & SUM & AVG\\\\\n",
       "\\hline\n",
       "\t D         &  6094     &  3047.000\\\\\n",
       "\t E         &  8248     &  2062.000\\\\\n",
       "\t F         & 15351     & 15351.000\\\\\n",
       "\t G         & 32344     &  6468.800\\\\\n",
       "\t H         & 22746     &  4549.200\\\\\n",
       "\t I         &  9745     &  3248.333\\\\\n",
       "\t J         &  6872     &  3436.000\\\\\n",
       "\\end{tabular}\n"
      ],
      "text/markdown": [
       "\n",
       "| color | SUM | AVG |\n",
       "|---|---|---|\n",
       "| D         |  6094     |  3047.000 |\n",
       "| E         |  8248     |  2062.000 |\n",
       "| F         | 15351     | 15351.000 |\n",
       "| G         | 32344     |  6468.800 |\n",
       "| H         | 22746     |  4549.200 |\n",
       "| I         |  9745     |  3248.333 |\n",
       "| J         |  6872     |  3436.000 |\n",
       "\n"
      ],
      "text/plain": [
       "  color SUM   AVG      \n",
       "1 D      6094  3047.000\n",
       "2 E      8248  2062.000\n",
       "3 F     15351 15351.000\n",
       "4 G     32344  6468.800\n",
       "5 H     22746  4549.200\n",
       "6 I      9745  3248.333\n",
       "7 J      6872  3436.000"
      ]
     },
     "metadata": {},
     "output_type": "display_data"
    }
   ],
   "source": [
    "#4\n",
    "d_selected_filtered_group_summarise <- summarise(d_selected_filtered_group, SUM=sum(price), AVG=mean(price))\n",
    "head(d_selected_filtered_group_summarise,10)"
   ]
  },
  {
   "cell_type": "code",
   "execution_count": 91,
   "metadata": {},
   "outputs": [
    {
     "data": {
      "text/html": [
       "<table>\n",
       "<thead><tr><th scope=col>color</th><th scope=col>SUM</th><th scope=col>AVG</th></tr></thead>\n",
       "<tbody>\n",
       "\t<tr><td>F        </td><td>15351    </td><td>15351.000</td></tr>\n",
       "\t<tr><td>G        </td><td>32344    </td><td> 6468.800</td></tr>\n",
       "\t<tr><td>H        </td><td>22746    </td><td> 4549.200</td></tr>\n",
       "\t<tr><td>J        </td><td> 6872    </td><td> 3436.000</td></tr>\n",
       "\t<tr><td>I        </td><td> 9745    </td><td> 3248.333</td></tr>\n",
       "\t<tr><td>D        </td><td> 6094    </td><td> 3047.000</td></tr>\n",
       "\t<tr><td>E        </td><td> 8248    </td><td> 2062.000</td></tr>\n",
       "</tbody>\n",
       "</table>\n"
      ],
      "text/latex": [
       "\\begin{tabular}{r|lll}\n",
       " color & SUM & AVG\\\\\n",
       "\\hline\n",
       "\t F         & 15351     & 15351.000\\\\\n",
       "\t G         & 32344     &  6468.800\\\\\n",
       "\t H         & 22746     &  4549.200\\\\\n",
       "\t J         &  6872     &  3436.000\\\\\n",
       "\t I         &  9745     &  3248.333\\\\\n",
       "\t D         &  6094     &  3047.000\\\\\n",
       "\t E         &  8248     &  2062.000\\\\\n",
       "\\end{tabular}\n"
      ],
      "text/markdown": [
       "\n",
       "| color | SUM | AVG |\n",
       "|---|---|---|\n",
       "| F         | 15351     | 15351.000 |\n",
       "| G         | 32344     |  6468.800 |\n",
       "| H         | 22746     |  4549.200 |\n",
       "| J         |  6872     |  3436.000 |\n",
       "| I         |  9745     |  3248.333 |\n",
       "| D         |  6094     |  3047.000 |\n",
       "| E         |  8248     |  2062.000 |\n",
       "\n"
      ],
      "text/plain": [
       "  color SUM   AVG      \n",
       "1 F     15351 15351.000\n",
       "2 G     32344  6468.800\n",
       "3 H     22746  4549.200\n",
       "4 J      6872  3436.000\n",
       "5 I      9745  3248.333\n",
       "6 D      6094  3047.000\n",
       "7 E      8248  2062.000"
      ]
     },
     "metadata": {},
     "output_type": "display_data"
    }
   ],
   "source": [
    "#5\n",
    "arrange(d_selected_filtered_group_summarise, desc(AVG))"
   ]
  },
  {
   "cell_type": "markdown",
   "metadata": {},
   "source": [
    "### nested function\n",
    "* 분석이 이루어진 반대의 순서로 생각하여 코딩을 하면 중간 변수 생성을 하지 않을 수 있음"
   ]
  },
  {
   "cell_type": "code",
   "execution_count": 92,
   "metadata": {},
   "outputs": [
    {
     "data": {
      "text/html": [
       "<table>\n",
       "<thead><tr><th scope=col>color</th><th scope=col>SUM</th><th scope=col>AVG</th></tr></thead>\n",
       "<tbody>\n",
       "\t<tr><td>F        </td><td>15351    </td><td>15351.000</td></tr>\n",
       "\t<tr><td>G        </td><td>32344    </td><td> 6468.800</td></tr>\n",
       "\t<tr><td>H        </td><td>22746    </td><td> 4549.200</td></tr>\n",
       "\t<tr><td>J        </td><td> 6872    </td><td> 3436.000</td></tr>\n",
       "\t<tr><td>I        </td><td> 9745    </td><td> 3248.333</td></tr>\n",
       "\t<tr><td>D        </td><td> 6094    </td><td> 3047.000</td></tr>\n",
       "\t<tr><td>E        </td><td> 8248    </td><td> 2062.000</td></tr>\n",
       "</tbody>\n",
       "</table>\n"
      ],
      "text/latex": [
       "\\begin{tabular}{r|lll}\n",
       " color & SUM & AVG\\\\\n",
       "\\hline\n",
       "\t F         & 15351     & 15351.000\\\\\n",
       "\t G         & 32344     &  6468.800\\\\\n",
       "\t H         & 22746     &  4549.200\\\\\n",
       "\t J         &  6872     &  3436.000\\\\\n",
       "\t I         &  9745     &  3248.333\\\\\n",
       "\t D         &  6094     &  3047.000\\\\\n",
       "\t E         &  8248     &  2062.000\\\\\n",
       "\\end{tabular}\n"
      ],
      "text/markdown": [
       "\n",
       "| color | SUM | AVG |\n",
       "|---|---|---|\n",
       "| F         | 15351     | 15351.000 |\n",
       "| G         | 32344     |  6468.800 |\n",
       "| H         | 22746     |  4549.200 |\n",
       "| J         |  6872     |  3436.000 |\n",
       "| I         |  9745     |  3248.333 |\n",
       "| D         |  6094     |  3047.000 |\n",
       "| E         |  8248     |  2062.000 |\n",
       "\n"
      ],
      "text/plain": [
       "  color SUM   AVG      \n",
       "1 F     15351 15351.000\n",
       "2 G     32344  6468.800\n",
       "3 H     22746  4549.200\n",
       "4 J      6872  3436.000\n",
       "5 I      9745  3248.333\n",
       "6 D      6094  3047.000\n",
       "7 E      8248  2062.000"
      ]
     },
     "metadata": {},
     "output_type": "display_data"
    }
   ],
   "source": [
    "#5\n",
    "arrange(d_selected_filtered_group_summarise, desc(AVG))"
   ]
  },
  {
   "cell_type": "code",
   "execution_count": 94,
   "metadata": {},
   "outputs": [
    {
     "data": {
      "text/html": [
       "<table>\n",
       "<thead><tr><th scope=col>color</th><th scope=col>SUM</th><th scope=col>AVG</th></tr></thead>\n",
       "<tbody>\n",
       "\t<tr><td>F        </td><td>15351    </td><td>15351.000</td></tr>\n",
       "\t<tr><td>G        </td><td>32344    </td><td> 6468.800</td></tr>\n",
       "\t<tr><td>H        </td><td>22746    </td><td> 4549.200</td></tr>\n",
       "\t<tr><td>J        </td><td> 6872    </td><td> 3436.000</td></tr>\n",
       "\t<tr><td>I        </td><td> 9745    </td><td> 3248.333</td></tr>\n",
       "\t<tr><td>D        </td><td> 6094    </td><td> 3047.000</td></tr>\n",
       "\t<tr><td>E        </td><td> 8248    </td><td> 2062.000</td></tr>\n",
       "</tbody>\n",
       "</table>\n"
      ],
      "text/latex": [
       "\\begin{tabular}{r|lll}\n",
       " color & SUM & AVG\\\\\n",
       "\\hline\n",
       "\t F         & 15351     & 15351.000\\\\\n",
       "\t G         & 32344     &  6468.800\\\\\n",
       "\t H         & 22746     &  4549.200\\\\\n",
       "\t J         &  6872     &  3436.000\\\\\n",
       "\t I         &  9745     &  3248.333\\\\\n",
       "\t D         &  6094     &  3047.000\\\\\n",
       "\t E         &  8248     &  2062.000\\\\\n",
       "\\end{tabular}\n"
      ],
      "text/markdown": [
       "\n",
       "| color | SUM | AVG |\n",
       "|---|---|---|\n",
       "| F         | 15351     | 15351.000 |\n",
       "| G         | 32344     |  6468.800 |\n",
       "| H         | 22746     |  4549.200 |\n",
       "| J         |  6872     |  3436.000 |\n",
       "| I         |  9745     |  3248.333 |\n",
       "| D         |  6094     |  3047.000 |\n",
       "| E         |  8248     |  2062.000 |\n",
       "\n"
      ],
      "text/plain": [
       "  color SUM   AVG      \n",
       "1 F     15351 15351.000\n",
       "2 G     32344  6468.800\n",
       "3 H     22746  4549.200\n",
       "4 J      6872  3436.000\n",
       "5 I      9745  3248.333\n",
       "6 D      6094  3047.000\n",
       "7 E      8248  2062.000"
      ]
     },
     "metadata": {},
     "output_type": "display_data"
    }
   ],
   "source": [
    "#5 and #4\n",
    "# 4 d_selected_filtered_group_summarise <- summarise(d_selected_filtered_group, SUM=sum(price), AVG=mean(price))\n",
    "arrange(summarise(d_selected_filtered_group, SUM=sum(price), AVG=mean(price)), desc(AVG))"
   ]
  },
  {
   "cell_type": "code",
   "execution_count": 95,
   "metadata": {},
   "outputs": [
    {
     "data": {
      "text/html": [
       "<table>\n",
       "<thead><tr><th scope=col>color</th><th scope=col>SUM</th><th scope=col>AVG</th></tr></thead>\n",
       "<tbody>\n",
       "\t<tr><td>F        </td><td>15351    </td><td>15351.000</td></tr>\n",
       "\t<tr><td>G        </td><td>32344    </td><td> 6468.800</td></tr>\n",
       "\t<tr><td>H        </td><td>22746    </td><td> 4549.200</td></tr>\n",
       "\t<tr><td>J        </td><td> 6872    </td><td> 3436.000</td></tr>\n",
       "\t<tr><td>I        </td><td> 9745    </td><td> 3248.333</td></tr>\n",
       "\t<tr><td>D        </td><td> 6094    </td><td> 3047.000</td></tr>\n",
       "\t<tr><td>E        </td><td> 8248    </td><td> 2062.000</td></tr>\n",
       "</tbody>\n",
       "</table>\n"
      ],
      "text/latex": [
       "\\begin{tabular}{r|lll}\n",
       " color & SUM & AVG\\\\\n",
       "\\hline\n",
       "\t F         & 15351     & 15351.000\\\\\n",
       "\t G         & 32344     &  6468.800\\\\\n",
       "\t H         & 22746     &  4549.200\\\\\n",
       "\t J         &  6872     &  3436.000\\\\\n",
       "\t I         &  9745     &  3248.333\\\\\n",
       "\t D         &  6094     &  3047.000\\\\\n",
       "\t E         &  8248     &  2062.000\\\\\n",
       "\\end{tabular}\n"
      ],
      "text/markdown": [
       "\n",
       "| color | SUM | AVG |\n",
       "|---|---|---|\n",
       "| F         | 15351     | 15351.000 |\n",
       "| G         | 32344     |  6468.800 |\n",
       "| H         | 22746     |  4549.200 |\n",
       "| J         |  6872     |  3436.000 |\n",
       "| I         |  9745     |  3248.333 |\n",
       "| D         |  6094     |  3047.000 |\n",
       "| E         |  8248     |  2062.000 |\n",
       "\n"
      ],
      "text/plain": [
       "  color SUM   AVG      \n",
       "1 F     15351 15351.000\n",
       "2 G     32344  6468.800\n",
       "3 H     22746  4549.200\n",
       "4 J      6872  3436.000\n",
       "5 I      9745  3248.333\n",
       "6 D      6094  3047.000\n",
       "7 E      8248  2062.000"
      ]
     },
     "metadata": {},
     "output_type": "display_data"
    }
   ],
   "source": [
    "#5 #4 #3 \n",
    "#4 d_selected_filtered_group_summarise <- summarise(d_selected_filtered_group, SUM=sum(price), AVG=mean(price))\n",
    "#3 d_selected_filtered_group <- group_by(d_selected_filtered, color)\n",
    "arrange(summarise(group_by(d_selected_filtered, color), SUM=sum(price), AVG=mean(price)), desc(AVG))\n"
   ]
  },
  {
   "cell_type": "code",
   "execution_count": 96,
   "metadata": {},
   "outputs": [
    {
     "data": {
      "text/html": [
       "<table>\n",
       "<thead><tr><th scope=col>color</th><th scope=col>SUM</th><th scope=col>AVG</th></tr></thead>\n",
       "<tbody>\n",
       "\t<tr><td>F        </td><td>15351    </td><td>15351.000</td></tr>\n",
       "\t<tr><td>G        </td><td>32344    </td><td> 6468.800</td></tr>\n",
       "\t<tr><td>H        </td><td>22746    </td><td> 4549.200</td></tr>\n",
       "\t<tr><td>J        </td><td> 6872    </td><td> 3436.000</td></tr>\n",
       "\t<tr><td>I        </td><td> 9745    </td><td> 3248.333</td></tr>\n",
       "\t<tr><td>D        </td><td> 6094    </td><td> 3047.000</td></tr>\n",
       "\t<tr><td>E        </td><td> 8248    </td><td> 2062.000</td></tr>\n",
       "</tbody>\n",
       "</table>\n"
      ],
      "text/latex": [
       "\\begin{tabular}{r|lll}\n",
       " color & SUM & AVG\\\\\n",
       "\\hline\n",
       "\t F         & 15351     & 15351.000\\\\\n",
       "\t G         & 32344     &  6468.800\\\\\n",
       "\t H         & 22746     &  4549.200\\\\\n",
       "\t J         &  6872     &  3436.000\\\\\n",
       "\t I         &  9745     &  3248.333\\\\\n",
       "\t D         &  6094     &  3047.000\\\\\n",
       "\t E         &  8248     &  2062.000\\\\\n",
       "\\end{tabular}\n"
      ],
      "text/markdown": [
       "\n",
       "| color | SUM | AVG |\n",
       "|---|---|---|\n",
       "| F         | 15351     | 15351.000 |\n",
       "| G         | 32344     |  6468.800 |\n",
       "| H         | 22746     |  4549.200 |\n",
       "| J         |  6872     |  3436.000 |\n",
       "| I         |  9745     |  3248.333 |\n",
       "| D         |  6094     |  3047.000 |\n",
       "| E         |  8248     |  2062.000 |\n",
       "\n"
      ],
      "text/plain": [
       "  color SUM   AVG      \n",
       "1 F     15351 15351.000\n",
       "2 G     32344  6468.800\n",
       "3 H     22746  4549.200\n",
       "4 J      6872  3436.000\n",
       "5 I      9745  3248.333\n",
       "6 D      6094  3047.000\n",
       "7 E      8248  2062.000"
      ]
     },
     "metadata": {},
     "output_type": "display_data"
    }
   ],
   "source": [
    "#5 #4 #3 #2\n",
    "#4 d_selected_filtered_group_summarise <- summarise(d_selected_filtered_group, SUM=sum(price), AVG=mean(price))\n",
    "#3 d_selected_filtered_group <- group_by(d_selected_filtered, color)\n",
    "#2 d_selected_filtered <- filter(d_selected, price >= 1000 & depth >= 70)\n",
    "arrange(summarise(group_by(filter(d_selected, price >= 1000 & depth >= 70), color), SUM=sum(price), AVG=mean(price)), desc(AVG))\n"
   ]
  },
  {
   "cell_type": "code",
   "execution_count": 97,
   "metadata": {},
   "outputs": [
    {
     "data": {
      "text/html": [
       "<table>\n",
       "<thead><tr><th scope=col>color</th><th scope=col>SUM</th><th scope=col>AVG</th></tr></thead>\n",
       "<tbody>\n",
       "\t<tr><td>F        </td><td>15351    </td><td>15351.000</td></tr>\n",
       "\t<tr><td>G        </td><td>32344    </td><td> 6468.800</td></tr>\n",
       "\t<tr><td>H        </td><td>22746    </td><td> 4549.200</td></tr>\n",
       "\t<tr><td>J        </td><td> 6872    </td><td> 3436.000</td></tr>\n",
       "\t<tr><td>I        </td><td> 9745    </td><td> 3248.333</td></tr>\n",
       "\t<tr><td>D        </td><td> 6094    </td><td> 3047.000</td></tr>\n",
       "\t<tr><td>E        </td><td> 8248    </td><td> 2062.000</td></tr>\n",
       "</tbody>\n",
       "</table>\n"
      ],
      "text/latex": [
       "\\begin{tabular}{r|lll}\n",
       " color & SUM & AVG\\\\\n",
       "\\hline\n",
       "\t F         & 15351     & 15351.000\\\\\n",
       "\t G         & 32344     &  6468.800\\\\\n",
       "\t H         & 22746     &  4549.200\\\\\n",
       "\t J         &  6872     &  3436.000\\\\\n",
       "\t I         &  9745     &  3248.333\\\\\n",
       "\t D         &  6094     &  3047.000\\\\\n",
       "\t E         &  8248     &  2062.000\\\\\n",
       "\\end{tabular}\n"
      ],
      "text/markdown": [
       "\n",
       "| color | SUM | AVG |\n",
       "|---|---|---|\n",
       "| F         | 15351     | 15351.000 |\n",
       "| G         | 32344     |  6468.800 |\n",
       "| H         | 22746     |  4549.200 |\n",
       "| J         |  6872     |  3436.000 |\n",
       "| I         |  9745     |  3248.333 |\n",
       "| D         |  6094     |  3047.000 |\n",
       "| E         |  8248     |  2062.000 |\n",
       "\n"
      ],
      "text/plain": [
       "  color SUM   AVG      \n",
       "1 F     15351 15351.000\n",
       "2 G     32344  6468.800\n",
       "3 H     22746  4549.200\n",
       "4 J      6872  3436.000\n",
       "5 I      9745  3248.333\n",
       "6 D      6094  3047.000\n",
       "7 E      8248  2062.000"
      ]
     },
     "metadata": {},
     "output_type": "display_data"
    }
   ],
   "source": [
    "#5 #4 #3 #2 #1 \n",
    "#4 d_selected_filtered_group_summarise <- summarise(d_selected_filtered_group, SUM=sum(price), AVG=mean(price))\n",
    "#3 d_selected_filtered_group <- group_by(d_selected_filtered, color)\n",
    "#2 d_selected_filtered <- filter(d_selected, price >= 1000 & depth >= 70)\n",
    "#1 d_selected <- select(diamonds, color, clarity, depth, price)\n",
    "arrange(summarise(group_by(filter(select(diamonds, color, clarity, depth, price), price >= 1000 & depth >= 70), color), SUM=sum(price), AVG=mean(price)), desc(AVG))\n"
   ]
  },
  {
   "cell_type": "markdown",
   "metadata": {},
   "source": [
    "* 이제 이렇게 변수를 사용하지 않고 만들어진 함수의 nested 구조를 정돈해보겠습니다. "
   ]
  },
  {
   "cell_type": "code",
   "execution_count": 99,
   "metadata": {},
   "outputs": [
    {
     "data": {
      "text/html": [
       "<table>\n",
       "<thead><tr><th scope=col>color</th><th scope=col>SUM</th><th scope=col>AVG</th></tr></thead>\n",
       "<tbody>\n",
       "\t<tr><td>F        </td><td>15351    </td><td>15351.000</td></tr>\n",
       "\t<tr><td>G        </td><td>32344    </td><td> 6468.800</td></tr>\n",
       "\t<tr><td>H        </td><td>22746    </td><td> 4549.200</td></tr>\n",
       "\t<tr><td>J        </td><td> 6872    </td><td> 3436.000</td></tr>\n",
       "\t<tr><td>I        </td><td> 9745    </td><td> 3248.333</td></tr>\n",
       "\t<tr><td>D        </td><td> 6094    </td><td> 3047.000</td></tr>\n",
       "\t<tr><td>E        </td><td> 8248    </td><td> 2062.000</td></tr>\n",
       "</tbody>\n",
       "</table>\n"
      ],
      "text/latex": [
       "\\begin{tabular}{r|lll}\n",
       " color & SUM & AVG\\\\\n",
       "\\hline\n",
       "\t F         & 15351     & 15351.000\\\\\n",
       "\t G         & 32344     &  6468.800\\\\\n",
       "\t H         & 22746     &  4549.200\\\\\n",
       "\t J         &  6872     &  3436.000\\\\\n",
       "\t I         &  9745     &  3248.333\\\\\n",
       "\t D         &  6094     &  3047.000\\\\\n",
       "\t E         &  8248     &  2062.000\\\\\n",
       "\\end{tabular}\n"
      ],
      "text/markdown": [
       "\n",
       "| color | SUM | AVG |\n",
       "|---|---|---|\n",
       "| F         | 15351     | 15351.000 |\n",
       "| G         | 32344     |  6468.800 |\n",
       "| H         | 22746     |  4549.200 |\n",
       "| J         |  6872     |  3436.000 |\n",
       "| I         |  9745     |  3248.333 |\n",
       "| D         |  6094     |  3047.000 |\n",
       "| E         |  8248     |  2062.000 |\n",
       "\n"
      ],
      "text/plain": [
       "  color SUM   AVG      \n",
       "1 F     15351 15351.000\n",
       "2 G     32344  6468.800\n",
       "3 H     22746  4549.200\n",
       "4 J      6872  3436.000\n",
       "5 I      9745  3248.333\n",
       "6 D      6094  3047.000\n",
       "7 E      8248  2062.000"
      ]
     },
     "metadata": {},
     "output_type": "display_data"
    }
   ],
   "source": [
    "#5 #4 #3 #2 #1 \n",
    "#4 d_selected_filtered_group_summarise <- summarise(d_selected_filtered_group, SUM=sum(price), AVG=mean(price))\n",
    "#3 d_selected_filtered_group <- group_by(d_selected_filtered, color)\n",
    "#2 d_selected_filtered <- filter(d_selected, price >= 1000 & depth >= 70)\n",
    "#1 d_selected <- select(diamonds, color, clarity, depth, price)\n",
    "\n",
    "arrange(\n",
    "    summarise(\n",
    "        group_by(\n",
    "            filter(\n",
    "                select(\n",
    "                    diamonds, color, clarity, depth, price\n",
    "                ), price >= 1000 & depth >= 70\n",
    "            ), color\n",
    "        ), SUM=sum(price), AVG=mean(price)\n",
    "    ), desc(AVG)\n",
    ")\n",
    "\n"
   ]
  },
  {
   "cell_type": "markdown",
   "metadata": {},
   "source": [
    "* 중간 변수를 사용하지 않고 nested 함수 구조를 사용하려면 이렇게 복잡하게 생각해야 합니다.\n",
    "* 즉, 가장 나중에 적용할 arrange 함수부터 고민을 해야 합니다.\n",
    "* 중요한 것은, 분석자의 생각은 nested 함수의 안쪽에서부터 시작된다는 것입니다. 즉,\n",
    "    1. select()로 분석하려는 컬럼을 선정하고\n",
    "    2. filter()로 조건을 주어서 필요한 데이터만 골라내고\n",
    "    3. group_by()로 그룹을 정의하고\n",
    "    4. summarise()로 정의한 그룹에 대해서 값을 산출하고\n",
    "    5. arrange()로 산출 결과를 정렬합니다.\n",
    "* pipe operator를 바로 이와 같은 이슈를 처리하는 연산자입니다. "
   ]
  },
  {
   "cell_type": "markdown",
   "metadata": {},
   "source": [
    "### with pipe operator"
   ]
  },
  {
   "cell_type": "code",
   "execution_count": 101,
   "metadata": {},
   "outputs": [
    {
     "data": {
      "text/html": [
       "<table>\n",
       "<thead><tr><th scope=col>color</th><th scope=col>SUM</th><th scope=col>AVG</th></tr></thead>\n",
       "<tbody>\n",
       "\t<tr><td>F        </td><td>15351    </td><td>15351.000</td></tr>\n",
       "\t<tr><td>G        </td><td>32344    </td><td> 6468.800</td></tr>\n",
       "\t<tr><td>H        </td><td>22746    </td><td> 4549.200</td></tr>\n",
       "\t<tr><td>J        </td><td> 6872    </td><td> 3436.000</td></tr>\n",
       "\t<tr><td>I        </td><td> 9745    </td><td> 3248.333</td></tr>\n",
       "\t<tr><td>D        </td><td> 6094    </td><td> 3047.000</td></tr>\n",
       "\t<tr><td>E        </td><td> 8248    </td><td> 2062.000</td></tr>\n",
       "</tbody>\n",
       "</table>\n"
      ],
      "text/latex": [
       "\\begin{tabular}{r|lll}\n",
       " color & SUM & AVG\\\\\n",
       "\\hline\n",
       "\t F         & 15351     & 15351.000\\\\\n",
       "\t G         & 32344     &  6468.800\\\\\n",
       "\t H         & 22746     &  4549.200\\\\\n",
       "\t J         &  6872     &  3436.000\\\\\n",
       "\t I         &  9745     &  3248.333\\\\\n",
       "\t D         &  6094     &  3047.000\\\\\n",
       "\t E         &  8248     &  2062.000\\\\\n",
       "\\end{tabular}\n"
      ],
      "text/markdown": [
       "\n",
       "| color | SUM | AVG |\n",
       "|---|---|---|\n",
       "| F         | 15351     | 15351.000 |\n",
       "| G         | 32344     |  6468.800 |\n",
       "| H         | 22746     |  4549.200 |\n",
       "| J         |  6872     |  3436.000 |\n",
       "| I         |  9745     |  3248.333 |\n",
       "| D         |  6094     |  3047.000 |\n",
       "| E         |  8248     |  2062.000 |\n",
       "\n"
      ],
      "text/plain": [
       "  color SUM   AVG      \n",
       "1 F     15351 15351.000\n",
       "2 G     32344  6468.800\n",
       "3 H     22746  4549.200\n",
       "4 J      6872  3436.000\n",
       "5 I      9745  3248.333\n",
       "6 D      6094  3047.000\n",
       "7 E      8248  2062.000"
      ]
     },
     "metadata": {},
     "output_type": "display_data"
    }
   ],
   "source": [
    "diamonds  %>% \n",
    "select(color, clarity, depth, price)  %>% \n",
    "filter(price >= 1000 & depth >= 70)  %>% \n",
    "group_by(color)  %>% \n",
    "summarise(SUM=sum(price), AVG=mean(price))  %>% \n",
    "arrange(desc(AVG))"
   ]
  },
  {
   "cell_type": "code",
   "execution_count": 103,
   "metadata": {},
   "outputs": [],
   "source": [
    "# select(diamonds,clarity, depth, price) \n",
    "\n",
    "# 위 아래가 동일합니다.\n",
    "\n",
    "# diamonds  %>% select(clarity, depth,price)"
   ]
  },
  {
   "cell_type": "markdown",
   "metadata": {},
   "source": [
    "### tidyverse and tibble\n",
    "* tidyvers는 공통적으로 input과 ouput 의 type이 동일하게 모두 tibble 입니다.\n",
    "* input, output이 같기 때문에 위와 같은 chaining operator를 사용할 수 있습니다."
   ]
  },
  {
   "cell_type": "markdown",
   "metadata": {},
   "source": [
    "## tidytext package"
   ]
  },
  {
   "cell_type": "markdown",
   "metadata": {},
   "source": [
    "### library load"
   ]
  },
  {
   "cell_type": "code",
   "execution_count": 35,
   "metadata": {},
   "outputs": [],
   "source": [
    "library(tidytext)"
   ]
  },
  {
   "cell_type": "markdown",
   "metadata": {},
   "source": [
    "### data generation"
   ]
  },
  {
   "cell_type": "code",
   "execution_count": 45,
   "metadata": {},
   "outputs": [],
   "source": [
    "text <- c(\"Row, row, row your boat\", \n",
    "          \"Gently down the stream\",\n",
    "          \"Merrily merrily, merrily, merrily\",\n",
    "          \"Life is but a dream\")"
   ]
  },
  {
   "cell_type": "code",
   "execution_count": 46,
   "metadata": {},
   "outputs": [
    {
     "data": {
      "text/html": [
       "'character'"
      ],
      "text/latex": [
       "'character'"
      ],
      "text/markdown": [
       "'character'"
      ],
      "text/plain": [
       "[1] \"character\""
      ]
     },
     "metadata": {},
     "output_type": "display_data"
    }
   ],
   "source": [
    "typeof(text)"
   ]
  },
  {
   "cell_type": "code",
   "execution_count": 47,
   "metadata": {},
   "outputs": [
    {
     "data": {
      "text/html": [
       "<ol class=list-inline>\n",
       "\t<li>'Row, row, row your boat'</li>\n",
       "\t<li>'Gently down the stream'</li>\n",
       "\t<li>'Merrily merrily, merrily, merrily'</li>\n",
       "\t<li>'Life is but a dream'</li>\n",
       "</ol>\n"
      ],
      "text/latex": [
       "\\begin{enumerate*}\n",
       "\\item 'Row, row, row your boat'\n",
       "\\item 'Gently down the stream'\n",
       "\\item 'Merrily merrily, merrily, merrily'\n",
       "\\item 'Life is but a dream'\n",
       "\\end{enumerate*}\n"
      ],
      "text/markdown": [
       "1. 'Row, row, row your boat'\n",
       "2. 'Gently down the stream'\n",
       "3. 'Merrily merrily, merrily, merrily'\n",
       "4. 'Life is but a dream'\n",
       "\n",
       "\n"
      ],
      "text/plain": [
       "[1] \"Row, row, row your boat\"           \"Gently down the stream\"           \n",
       "[3] \"Merrily merrily, merrily, merrily\" \"Life is but a dream\"              "
      ]
     },
     "metadata": {},
     "output_type": "display_data"
    }
   ],
   "source": [
    "text"
   ]
  },
  {
   "cell_type": "code",
   "execution_count": 48,
   "metadata": {},
   "outputs": [
    {
     "data": {
      "text/html": [
       "'Gently down the stream'"
      ],
      "text/latex": [
       "'Gently down the stream'"
      ],
      "text/markdown": [
       "'Gently down the stream'"
      ],
      "text/plain": [
       "[1] \"Gently down the stream\""
      ]
     },
     "metadata": {},
     "output_type": "display_data"
    }
   ],
   "source": [
    "text[2]"
   ]
  },
  {
   "cell_type": "markdown",
   "metadata": {},
   "source": [
    "### convert to data frame (tibble)"
   ]
  },
  {
   "cell_type": "code",
   "execution_count": 49,
   "metadata": {},
   "outputs": [],
   "source": [
    "text_df <- data.frame(line = 1:4, text = text)"
   ]
  },
  {
   "cell_type": "code",
   "execution_count": 50,
   "metadata": {},
   "outputs": [
    {
     "name": "stdout",
     "output_type": "stream",
     "text": [
      "'data.frame':\t4 obs. of  2 variables:\n",
      " $ line: int  1 2 3 4\n",
      " $ text: Factor w/ 4 levels \"Gently down the stream\",..: 4 1 3 2\n"
     ]
    }
   ],
   "source": [
    "str(text_df)"
   ]
  },
  {
   "cell_type": "code",
   "execution_count": 51,
   "metadata": {},
   "outputs": [],
   "source": [
    "text_df <- tibble(line = 1:4, text = text)"
   ]
  },
  {
   "cell_type": "code",
   "execution_count": 52,
   "metadata": {},
   "outputs": [
    {
     "name": "stdout",
     "output_type": "stream",
     "text": [
      "Classes ‘tbl_df’, ‘tbl’ and 'data.frame':\t4 obs. of  2 variables:\n",
      " $ line: int  1 2 3 4\n",
      " $ text: chr  \"Row, row, row your boat\" \"Gently down the stream\" \"Merrily merrily, merrily, merrily\" \"Life is but a dream\"\n"
     ]
    }
   ],
   "source": [
    "str(text_df)"
   ]
  },
  {
   "cell_type": "markdown",
   "metadata": {},
   "source": [
    "### apply tidyverses"
   ]
  },
  {
   "cell_type": "code",
   "execution_count": 53,
   "metadata": {},
   "outputs": [
    {
     "data": {
      "text/html": [
       "<table>\n",
       "<thead><tr><th scope=col>line</th><th scope=col>text</th></tr></thead>\n",
       "<tbody>\n",
       "\t<tr><td>3                                </td><td>Merrily merrily, merrily, merrily</td></tr>\n",
       "</tbody>\n",
       "</table>\n"
      ],
      "text/latex": [
       "\\begin{tabular}{r|ll}\n",
       " line & text\\\\\n",
       "\\hline\n",
       "\t 3                                 & Merrily merrily, merrily, merrily\\\\\n",
       "\\end{tabular}\n"
      ],
      "text/markdown": [
       "\n",
       "| line | text |\n",
       "|---|---|\n",
       "| 3                                 | Merrily merrily, merrily, merrily |\n",
       "\n"
      ],
      "text/plain": [
       "  line text                             \n",
       "1 3    Merrily merrily, merrily, merrily"
      ]
     },
     "metadata": {},
     "output_type": "display_data"
    },
    {
     "data": {
      "text/html": [
       "<table>\n",
       "<thead><tr><th scope=col>text</th></tr></thead>\n",
       "<tbody>\n",
       "\t<tr><td>Row, row, row your boat          </td></tr>\n",
       "\t<tr><td>Gently down the stream           </td></tr>\n",
       "\t<tr><td>Merrily merrily, merrily, merrily</td></tr>\n",
       "\t<tr><td>Life is but a dream              </td></tr>\n",
       "</tbody>\n",
       "</table>\n"
      ],
      "text/latex": [
       "\\begin{tabular}{r|l}\n",
       " text\\\\\n",
       "\\hline\n",
       "\t Row, row, row your boat          \\\\\n",
       "\t Gently down the stream           \\\\\n",
       "\t Merrily merrily, merrily, merrily\\\\\n",
       "\t Life is but a dream              \\\\\n",
       "\\end{tabular}\n"
      ],
      "text/markdown": [
       "\n",
       "| text |\n",
       "|---|\n",
       "| Row, row, row your boat           |\n",
       "| Gently down the stream            |\n",
       "| Merrily merrily, merrily, merrily |\n",
       "| Life is but a dream               |\n",
       "\n"
      ],
      "text/plain": [
       "  text                             \n",
       "1 Row, row, row your boat          \n",
       "2 Gently down the stream           \n",
       "3 Merrily merrily, merrily, merrily\n",
       "4 Life is but a dream              "
      ]
     },
     "metadata": {},
     "output_type": "display_data"
    }
   ],
   "source": [
    "text_df  %>% filter(line == 3)\n",
    "text_df  %>% select(text)"
   ]
  },
  {
   "cell_type": "markdown",
   "metadata": {},
   "source": [
    "### unnest_tokens"
   ]
  },
  {
   "cell_type": "markdown",
   "metadata": {},
   "source": [
    "* tibble의 하나의 cell에 담겨 있는 text 데이터를 분해하는 함수입니다.\n",
    "* token은 분석의 단위를 나타냅니다.\n",
    "* sentence, word 등이 될 수 있습니다. 한글의 경우, 형태소 단위도 될 수 있습니다. \n",
    "* 하나의 cell에 있는 데이터를 분해해서 행으로 나눠줍니다. "
   ]
  },
  {
   "cell_type": "code",
   "execution_count": 54,
   "metadata": {},
   "outputs": [
    {
     "data": {
      "text/html": [
       "<table>\n",
       "<thead><tr><th scope=col>line</th><th scope=col>text</th></tr></thead>\n",
       "<tbody>\n",
       "\t<tr><td>1                                </td><td>Row, row, row your boat          </td></tr>\n",
       "\t<tr><td>2                                </td><td>Gently down the stream           </td></tr>\n",
       "\t<tr><td>3                                </td><td>Merrily merrily, merrily, merrily</td></tr>\n",
       "\t<tr><td>4                                </td><td>Life is but a dream              </td></tr>\n",
       "</tbody>\n",
       "</table>\n"
      ],
      "text/latex": [
       "\\begin{tabular}{r|ll}\n",
       " line & text\\\\\n",
       "\\hline\n",
       "\t 1                                 & Row, row, row your boat          \\\\\n",
       "\t 2                                 & Gently down the stream           \\\\\n",
       "\t 3                                 & Merrily merrily, merrily, merrily\\\\\n",
       "\t 4                                 & Life is but a dream              \\\\\n",
       "\\end{tabular}\n"
      ],
      "text/markdown": [
       "\n",
       "| line | text |\n",
       "|---|---|\n",
       "| 1                                 | Row, row, row your boat           |\n",
       "| 2                                 | Gently down the stream            |\n",
       "| 3                                 | Merrily merrily, merrily, merrily |\n",
       "| 4                                 | Life is but a dream               |\n",
       "\n"
      ],
      "text/plain": [
       "  line text                             \n",
       "1 1    Row, row, row your boat          \n",
       "2 2    Gently down the stream           \n",
       "3 3    Merrily merrily, merrily, merrily\n",
       "4 4    Life is but a dream              "
      ]
     },
     "metadata": {},
     "output_type": "display_data"
    }
   ],
   "source": [
    "text_df"
   ]
  },
  {
   "cell_type": "code",
   "execution_count": 55,
   "metadata": {},
   "outputs": [
    {
     "data": {
      "text/html": [
       "<table>\n",
       "<thead><tr><th scope=col>line</th><th scope=col>word</th></tr></thead>\n",
       "<tbody>\n",
       "\t<tr><td>1      </td><td>row    </td></tr>\n",
       "\t<tr><td>1      </td><td>row    </td></tr>\n",
       "\t<tr><td>1      </td><td>row    </td></tr>\n",
       "\t<tr><td>1      </td><td>your   </td></tr>\n",
       "\t<tr><td>1      </td><td>boat   </td></tr>\n",
       "\t<tr><td>2      </td><td>gently </td></tr>\n",
       "\t<tr><td>2      </td><td>down   </td></tr>\n",
       "\t<tr><td>2      </td><td>the    </td></tr>\n",
       "\t<tr><td>2      </td><td>stream </td></tr>\n",
       "\t<tr><td>3      </td><td>merrily</td></tr>\n",
       "\t<tr><td>3      </td><td>merrily</td></tr>\n",
       "\t<tr><td>3      </td><td>merrily</td></tr>\n",
       "\t<tr><td>3      </td><td>merrily</td></tr>\n",
       "\t<tr><td>4      </td><td>life   </td></tr>\n",
       "\t<tr><td>4      </td><td>is     </td></tr>\n",
       "\t<tr><td>4      </td><td>but    </td></tr>\n",
       "\t<tr><td>4      </td><td>a      </td></tr>\n",
       "\t<tr><td>4      </td><td>dream  </td></tr>\n",
       "</tbody>\n",
       "</table>\n"
      ],
      "text/latex": [
       "\\begin{tabular}{r|ll}\n",
       " line & word\\\\\n",
       "\\hline\n",
       "\t 1       & row    \\\\\n",
       "\t 1       & row    \\\\\n",
       "\t 1       & row    \\\\\n",
       "\t 1       & your   \\\\\n",
       "\t 1       & boat   \\\\\n",
       "\t 2       & gently \\\\\n",
       "\t 2       & down   \\\\\n",
       "\t 2       & the    \\\\\n",
       "\t 2       & stream \\\\\n",
       "\t 3       & merrily\\\\\n",
       "\t 3       & merrily\\\\\n",
       "\t 3       & merrily\\\\\n",
       "\t 3       & merrily\\\\\n",
       "\t 4       & life   \\\\\n",
       "\t 4       & is     \\\\\n",
       "\t 4       & but    \\\\\n",
       "\t 4       & a      \\\\\n",
       "\t 4       & dream  \\\\\n",
       "\\end{tabular}\n"
      ],
      "text/markdown": [
       "\n",
       "| line | word |\n",
       "|---|---|\n",
       "| 1       | row     |\n",
       "| 1       | row     |\n",
       "| 1       | row     |\n",
       "| 1       | your    |\n",
       "| 1       | boat    |\n",
       "| 2       | gently  |\n",
       "| 2       | down    |\n",
       "| 2       | the     |\n",
       "| 2       | stream  |\n",
       "| 3       | merrily |\n",
       "| 3       | merrily |\n",
       "| 3       | merrily |\n",
       "| 3       | merrily |\n",
       "| 4       | life    |\n",
       "| 4       | is      |\n",
       "| 4       | but     |\n",
       "| 4       | a       |\n",
       "| 4       | dream   |\n",
       "\n"
      ],
      "text/plain": [
       "   line word   \n",
       "1  1    row    \n",
       "2  1    row    \n",
       "3  1    row    \n",
       "4  1    your   \n",
       "5  1    boat   \n",
       "6  2    gently \n",
       "7  2    down   \n",
       "8  2    the    \n",
       "9  2    stream \n",
       "10 3    merrily\n",
       "11 3    merrily\n",
       "12 3    merrily\n",
       "13 3    merrily\n",
       "14 4    life   \n",
       "15 4    is     \n",
       "16 4    but    \n",
       "17 4    a      \n",
       "18 4    dream  "
      ]
     },
     "metadata": {},
     "output_type": "display_data"
    }
   ],
   "source": [
    "unnest_tokens(text_df, input=text, output = word, token = 'words')"
   ]
  },
  {
   "cell_type": "markdown",
   "metadata": {},
   "source": [
    "* 이제 이것을 앞에서 살펴본 pipe operator를 이용해 봅니다."
   ]
  },
  {
   "cell_type": "code",
   "execution_count": 56,
   "metadata": {},
   "outputs": [
    {
     "data": {
      "text/html": [
       "<table>\n",
       "<thead><tr><th scope=col>line</th><th scope=col>word</th></tr></thead>\n",
       "<tbody>\n",
       "\t<tr><td>1   </td><td>row </td></tr>\n",
       "\t<tr><td>1   </td><td>row </td></tr>\n",
       "\t<tr><td>1   </td><td>row </td></tr>\n",
       "\t<tr><td>1   </td><td>your</td></tr>\n",
       "\t<tr><td>1   </td><td>boat</td></tr>\n",
       "</tbody>\n",
       "</table>\n"
      ],
      "text/latex": [
       "\\begin{tabular}{r|ll}\n",
       " line & word\\\\\n",
       "\\hline\n",
       "\t 1    & row \\\\\n",
       "\t 1    & row \\\\\n",
       "\t 1    & row \\\\\n",
       "\t 1    & your\\\\\n",
       "\t 1    & boat\\\\\n",
       "\\end{tabular}\n"
      ],
      "text/markdown": [
       "\n",
       "| line | word |\n",
       "|---|---|\n",
       "| 1    | row  |\n",
       "| 1    | row  |\n",
       "| 1    | row  |\n",
       "| 1    | your |\n",
       "| 1    | boat |\n",
       "\n"
      ],
      "text/plain": [
       "  line word\n",
       "1 1    row \n",
       "2 1    row \n",
       "3 1    row \n",
       "4 1    your\n",
       "5 1    boat"
      ]
     },
     "metadata": {},
     "output_type": "display_data"
    }
   ],
   "source": [
    "text_df  %>% \n",
    "unnest_tokens(input = text, output = word, token = 'words')  %>% \n",
    "head(5)"
   ]
  },
  {
   "cell_type": "markdown",
   "metadata": {},
   "source": [
    "## join"
   ]
  },
  {
   "cell_type": "markdown",
   "metadata": {},
   "source": [
    "* 서로 다른 테이블(data frame)에 있는 데이터를 서로 연계할 때 join을 사용할 수 있습니다. \n",
    "* stop words를 배제하거나, sentiment를 연결할 때 join을 사용하면 편리합니다. "
   ]
  },
  {
   "cell_type": "code",
   "execution_count": 57,
   "metadata": {},
   "outputs": [
    {
     "data": {
      "text/html": [
       "<table>\n",
       "<thead><tr><th scope=col>line</th><th scope=col>text</th></tr></thead>\n",
       "<tbody>\n",
       "\t<tr><td>1                                </td><td>Row, row, row your boat          </td></tr>\n",
       "\t<tr><td>2                                </td><td>Gently down the stream           </td></tr>\n",
       "\t<tr><td>3                                </td><td>Merrily merrily, merrily, merrily</td></tr>\n",
       "\t<tr><td>4                                </td><td>Life is but a dream              </td></tr>\n",
       "</tbody>\n",
       "</table>\n"
      ],
      "text/latex": [
       "\\begin{tabular}{r|ll}\n",
       " line & text\\\\\n",
       "\\hline\n",
       "\t 1                                 & Row, row, row your boat          \\\\\n",
       "\t 2                                 & Gently down the stream           \\\\\n",
       "\t 3                                 & Merrily merrily, merrily, merrily\\\\\n",
       "\t 4                                 & Life is but a dream              \\\\\n",
       "\\end{tabular}\n"
      ],
      "text/markdown": [
       "\n",
       "| line | text |\n",
       "|---|---|\n",
       "| 1                                 | Row, row, row your boat           |\n",
       "| 2                                 | Gently down the stream            |\n",
       "| 3                                 | Merrily merrily, merrily, merrily |\n",
       "| 4                                 | Life is but a dream               |\n",
       "\n"
      ],
      "text/plain": [
       "  line text                             \n",
       "1 1    Row, row, row your boat          \n",
       "2 2    Gently down the stream           \n",
       "3 3    Merrily merrily, merrily, merrily\n",
       "4 4    Life is but a dream              "
      ]
     },
     "metadata": {},
     "output_type": "display_data"
    }
   ],
   "source": [
    "text_df"
   ]
  },
  {
   "cell_type": "markdown",
   "metadata": {},
   "source": [
    "### stop_words list"
   ]
  },
  {
   "cell_type": "markdown",
   "metadata": {},
   "source": [
    "* 필요없는 단어는 분석에서 제외하고자 합니다.\n",
    "* 이를 위해 stop words 곧, 불용어 리스트를 만들어 보겠습니다. "
   ]
  },
  {
   "cell_type": "code",
   "execution_count": 58,
   "metadata": {},
   "outputs": [],
   "source": [
    "stop_words = c(\"your\", \"the\", \"is\", \"but\", \"a\")"
   ]
  },
  {
   "cell_type": "markdown",
   "metadata": {},
   "source": [
    "* 이 불용어 리스트를 tibble type으로 만들겠습니다. "
   ]
  },
  {
   "cell_type": "code",
   "execution_count": 59,
   "metadata": {},
   "outputs": [],
   "source": [
    "tbl_df(stop_words) -> stop_words"
   ]
  },
  {
   "cell_type": "markdown",
   "metadata": {},
   "source": [
    "* 컬럼의 이름을 변경하고 각 행에 index를 부여해보겠습니다."
   ]
  },
  {
   "cell_type": "code",
   "execution_count": 60,
   "metadata": {},
   "outputs": [],
   "source": [
    "stop_words  %>% rename(word = value) -> stop_words"
   ]
  },
  {
   "cell_type": "code",
   "execution_count": 61,
   "metadata": {},
   "outputs": [],
   "source": [
    "stop_words  %>%  mutate(id = row_number())  %>% select(id, word) -> stop_words"
   ]
  },
  {
   "cell_type": "code",
   "execution_count": 62,
   "metadata": {},
   "outputs": [
    {
     "data": {
      "text/html": [
       "<table>\n",
       "<thead><tr><th scope=col>id</th><th scope=col>word</th></tr></thead>\n",
       "<tbody>\n",
       "\t<tr><td>1   </td><td>your</td></tr>\n",
       "\t<tr><td>2   </td><td>the </td></tr>\n",
       "\t<tr><td>3   </td><td>is  </td></tr>\n",
       "\t<tr><td>4   </td><td>but </td></tr>\n",
       "\t<tr><td>5   </td><td>a   </td></tr>\n",
       "</tbody>\n",
       "</table>\n"
      ],
      "text/latex": [
       "\\begin{tabular}{r|ll}\n",
       " id & word\\\\\n",
       "\\hline\n",
       "\t 1    & your\\\\\n",
       "\t 2    & the \\\\\n",
       "\t 3    & is  \\\\\n",
       "\t 4    & but \\\\\n",
       "\t 5    & a   \\\\\n",
       "\\end{tabular}\n"
      ],
      "text/markdown": [
       "\n",
       "| id | word |\n",
       "|---|---|\n",
       "| 1    | your |\n",
       "| 2    | the  |\n",
       "| 3    | is   |\n",
       "| 4    | but  |\n",
       "| 5    | a    |\n",
       "\n"
      ],
      "text/plain": [
       "  id word\n",
       "1 1  your\n",
       "2 2  the \n",
       "3 3  is  \n",
       "4 4  but \n",
       "5 5  a   "
      ]
     },
     "metadata": {},
     "output_type": "display_data"
    }
   ],
   "source": [
    "stop_words "
   ]
  },
  {
   "cell_type": "markdown",
   "metadata": {},
   "source": [
    "### stop_words exclude using join function"
   ]
  },
  {
   "cell_type": "markdown",
   "metadata": {},
   "source": [
    "* 이제 unnest_token으로 만들어진 단어 목록에서 stop_words에 있는 단어를 제외하겠습니다.\n",
    "* 이를 위해 anti_join을 사용하려고 합니다."
   ]
  },
  {
   "cell_type": "code",
   "execution_count": 63,
   "metadata": {},
   "outputs": [
    {
     "data": {
      "text/html": [
       "<table>\n",
       "<thead><tr><th scope=col>line</th><th scope=col>text</th></tr></thead>\n",
       "<tbody>\n",
       "\t<tr><td>1                                </td><td>Row, row, row your boat          </td></tr>\n",
       "\t<tr><td>2                                </td><td>Gently down the stream           </td></tr>\n",
       "\t<tr><td>3                                </td><td>Merrily merrily, merrily, merrily</td></tr>\n",
       "\t<tr><td>4                                </td><td>Life is but a dream              </td></tr>\n",
       "</tbody>\n",
       "</table>\n"
      ],
      "text/latex": [
       "\\begin{tabular}{r|ll}\n",
       " line & text\\\\\n",
       "\\hline\n",
       "\t 1                                 & Row, row, row your boat          \\\\\n",
       "\t 2                                 & Gently down the stream           \\\\\n",
       "\t 3                                 & Merrily merrily, merrily, merrily\\\\\n",
       "\t 4                                 & Life is but a dream              \\\\\n",
       "\\end{tabular}\n"
      ],
      "text/markdown": [
       "\n",
       "| line | text |\n",
       "|---|---|\n",
       "| 1                                 | Row, row, row your boat           |\n",
       "| 2                                 | Gently down the stream            |\n",
       "| 3                                 | Merrily merrily, merrily, merrily |\n",
       "| 4                                 | Life is but a dream               |\n",
       "\n"
      ],
      "text/plain": [
       "  line text                             \n",
       "1 1    Row, row, row your boat          \n",
       "2 2    Gently down the stream           \n",
       "3 3    Merrily merrily, merrily, merrily\n",
       "4 4    Life is but a dream              "
      ]
     },
     "metadata": {},
     "output_type": "display_data"
    }
   ],
   "source": [
    "tbl_df(text_df)"
   ]
  },
  {
   "cell_type": "code",
   "execution_count": 65,
   "metadata": {},
   "outputs": [],
   "source": [
    "text_df  %>% unnest_tokens(input= text, output = word, token = 'words') -> text_df_token"
   ]
  },
  {
   "cell_type": "code",
   "execution_count": 66,
   "metadata": {},
   "outputs": [
    {
     "data": {
      "text/html": [
       "<table>\n",
       "<thead><tr><th scope=col>line</th><th scope=col>word</th></tr></thead>\n",
       "<tbody>\n",
       "\t<tr><td>1      </td><td>row    </td></tr>\n",
       "\t<tr><td>1      </td><td>row    </td></tr>\n",
       "\t<tr><td>1      </td><td>row    </td></tr>\n",
       "\t<tr><td>1      </td><td>your   </td></tr>\n",
       "\t<tr><td>1      </td><td>boat   </td></tr>\n",
       "\t<tr><td>2      </td><td>gently </td></tr>\n",
       "\t<tr><td>2      </td><td>down   </td></tr>\n",
       "\t<tr><td>2      </td><td>the    </td></tr>\n",
       "\t<tr><td>2      </td><td>stream </td></tr>\n",
       "\t<tr><td>3      </td><td>merrily</td></tr>\n",
       "\t<tr><td>3      </td><td>merrily</td></tr>\n",
       "\t<tr><td>3      </td><td>merrily</td></tr>\n",
       "\t<tr><td>3      </td><td>merrily</td></tr>\n",
       "\t<tr><td>4      </td><td>life   </td></tr>\n",
       "\t<tr><td>4      </td><td>is     </td></tr>\n",
       "\t<tr><td>4      </td><td>but    </td></tr>\n",
       "\t<tr><td>4      </td><td>a      </td></tr>\n",
       "\t<tr><td>4      </td><td>dream  </td></tr>\n",
       "</tbody>\n",
       "</table>\n"
      ],
      "text/latex": [
       "\\begin{tabular}{r|ll}\n",
       " line & word\\\\\n",
       "\\hline\n",
       "\t 1       & row    \\\\\n",
       "\t 1       & row    \\\\\n",
       "\t 1       & row    \\\\\n",
       "\t 1       & your   \\\\\n",
       "\t 1       & boat   \\\\\n",
       "\t 2       & gently \\\\\n",
       "\t 2       & down   \\\\\n",
       "\t 2       & the    \\\\\n",
       "\t 2       & stream \\\\\n",
       "\t 3       & merrily\\\\\n",
       "\t 3       & merrily\\\\\n",
       "\t 3       & merrily\\\\\n",
       "\t 3       & merrily\\\\\n",
       "\t 4       & life   \\\\\n",
       "\t 4       & is     \\\\\n",
       "\t 4       & but    \\\\\n",
       "\t 4       & a      \\\\\n",
       "\t 4       & dream  \\\\\n",
       "\\end{tabular}\n"
      ],
      "text/markdown": [
       "\n",
       "| line | word |\n",
       "|---|---|\n",
       "| 1       | row     |\n",
       "| 1       | row     |\n",
       "| 1       | row     |\n",
       "| 1       | your    |\n",
       "| 1       | boat    |\n",
       "| 2       | gently  |\n",
       "| 2       | down    |\n",
       "| 2       | the     |\n",
       "| 2       | stream  |\n",
       "| 3       | merrily |\n",
       "| 3       | merrily |\n",
       "| 3       | merrily |\n",
       "| 3       | merrily |\n",
       "| 4       | life    |\n",
       "| 4       | is      |\n",
       "| 4       | but     |\n",
       "| 4       | a       |\n",
       "| 4       | dream   |\n",
       "\n"
      ],
      "text/plain": [
       "   line word   \n",
       "1  1    row    \n",
       "2  1    row    \n",
       "3  1    row    \n",
       "4  1    your   \n",
       "5  1    boat   \n",
       "6  2    gently \n",
       "7  2    down   \n",
       "8  2    the    \n",
       "9  2    stream \n",
       "10 3    merrily\n",
       "11 3    merrily\n",
       "12 3    merrily\n",
       "13 3    merrily\n",
       "14 4    life   \n",
       "15 4    is     \n",
       "16 4    but    \n",
       "17 4    a      \n",
       "18 4    dream  "
      ]
     },
     "metadata": {},
     "output_type": "display_data"
    },
    {
     "data": {
      "text/html": [
       "<table>\n",
       "<thead><tr><th scope=col>id</th><th scope=col>word</th></tr></thead>\n",
       "<tbody>\n",
       "\t<tr><td>1   </td><td>your</td></tr>\n",
       "\t<tr><td>2   </td><td>the </td></tr>\n",
       "\t<tr><td>3   </td><td>is  </td></tr>\n",
       "\t<tr><td>4   </td><td>but </td></tr>\n",
       "\t<tr><td>5   </td><td>a   </td></tr>\n",
       "</tbody>\n",
       "</table>\n"
      ],
      "text/latex": [
       "\\begin{tabular}{r|ll}\n",
       " id & word\\\\\n",
       "\\hline\n",
       "\t 1    & your\\\\\n",
       "\t 2    & the \\\\\n",
       "\t 3    & is  \\\\\n",
       "\t 4    & but \\\\\n",
       "\t 5    & a   \\\\\n",
       "\\end{tabular}\n"
      ],
      "text/markdown": [
       "\n",
       "| id | word |\n",
       "|---|---|\n",
       "| 1    | your |\n",
       "| 2    | the  |\n",
       "| 3    | is   |\n",
       "| 4    | but  |\n",
       "| 5    | a    |\n",
       "\n"
      ],
      "text/plain": [
       "  id word\n",
       "1 1  your\n",
       "2 2  the \n",
       "3 3  is  \n",
       "4 4  but \n",
       "5 5  a   "
      ]
     },
     "metadata": {},
     "output_type": "display_data"
    }
   ],
   "source": [
    "text_df_token\n",
    "stop_words"
   ]
  },
  {
   "cell_type": "markdown",
   "metadata": {},
   "source": [
    "* join의 종류\n",
    "    * http://www2.stat.duke.edu/~cr173/Sta323_Sp18/slides/Lec15_sql.html#1"
   ]
  },
  {
   "cell_type": "markdown",
   "metadata": {},
   "source": [
    "* text_df_token에서 stop_words에 있는 단어를 제외하고자 합니다. "
   ]
  },
  {
   "cell_type": "code",
   "execution_count": 70,
   "metadata": {},
   "outputs": [
    {
     "data": {
      "text/html": [
       "<table>\n",
       "<thead><tr><th scope=col>line</th><th scope=col>word</th></tr></thead>\n",
       "<tbody>\n",
       "\t<tr><td>1      </td><td>row    </td></tr>\n",
       "\t<tr><td>1      </td><td>row    </td></tr>\n",
       "\t<tr><td>1      </td><td>row    </td></tr>\n",
       "\t<tr><td>1      </td><td>boat   </td></tr>\n",
       "\t<tr><td>2      </td><td>gently </td></tr>\n",
       "\t<tr><td>2      </td><td>down   </td></tr>\n",
       "\t<tr><td>2      </td><td>stream </td></tr>\n",
       "\t<tr><td>3      </td><td>merrily</td></tr>\n",
       "\t<tr><td>3      </td><td>merrily</td></tr>\n",
       "\t<tr><td>3      </td><td>merrily</td></tr>\n",
       "\t<tr><td>3      </td><td>merrily</td></tr>\n",
       "\t<tr><td>4      </td><td>life   </td></tr>\n",
       "\t<tr><td>4      </td><td>dream  </td></tr>\n",
       "</tbody>\n",
       "</table>\n"
      ],
      "text/latex": [
       "\\begin{tabular}{r|ll}\n",
       " line & word\\\\\n",
       "\\hline\n",
       "\t 1       & row    \\\\\n",
       "\t 1       & row    \\\\\n",
       "\t 1       & row    \\\\\n",
       "\t 1       & boat   \\\\\n",
       "\t 2       & gently \\\\\n",
       "\t 2       & down   \\\\\n",
       "\t 2       & stream \\\\\n",
       "\t 3       & merrily\\\\\n",
       "\t 3       & merrily\\\\\n",
       "\t 3       & merrily\\\\\n",
       "\t 3       & merrily\\\\\n",
       "\t 4       & life   \\\\\n",
       "\t 4       & dream  \\\\\n",
       "\\end{tabular}\n"
      ],
      "text/markdown": [
       "\n",
       "| line | word |\n",
       "|---|---|\n",
       "| 1       | row     |\n",
       "| 1       | row     |\n",
       "| 1       | row     |\n",
       "| 1       | boat    |\n",
       "| 2       | gently  |\n",
       "| 2       | down    |\n",
       "| 2       | stream  |\n",
       "| 3       | merrily |\n",
       "| 3       | merrily |\n",
       "| 3       | merrily |\n",
       "| 3       | merrily |\n",
       "| 4       | life    |\n",
       "| 4       | dream   |\n",
       "\n"
      ],
      "text/plain": [
       "   line word   \n",
       "1  1    row    \n",
       "2  1    row    \n",
       "3  1    row    \n",
       "4  1    boat   \n",
       "5  2    gently \n",
       "6  2    down   \n",
       "7  2    stream \n",
       "8  3    merrily\n",
       "9  3    merrily\n",
       "10 3    merrily\n",
       "11 3    merrily\n",
       "12 4    life   \n",
       "13 4    dream  "
      ]
     },
     "metadata": {},
     "output_type": "display_data"
    }
   ],
   "source": [
    "text_df_token  %>% anti_join(stop_words, by='word')"
   ]
  },
  {
   "cell_type": "markdown",
   "metadata": {},
   "source": [
    "* 반대로 text_df_token 에 포함되어 있는 불용어만 골라낸다면 어떻게 할 수 있을까요? "
   ]
  },
  {
   "cell_type": "code",
   "execution_count": 71,
   "metadata": {},
   "outputs": [
    {
     "data": {
      "text/html": [
       "<table>\n",
       "<thead><tr><th scope=col>line</th><th scope=col>word</th><th scope=col>id</th></tr></thead>\n",
       "<tbody>\n",
       "\t<tr><td>1   </td><td>your</td><td>1   </td></tr>\n",
       "\t<tr><td>2   </td><td>the </td><td>2   </td></tr>\n",
       "\t<tr><td>4   </td><td>is  </td><td>3   </td></tr>\n",
       "\t<tr><td>4   </td><td>but </td><td>4   </td></tr>\n",
       "\t<tr><td>4   </td><td>a   </td><td>5   </td></tr>\n",
       "</tbody>\n",
       "</table>\n"
      ],
      "text/latex": [
       "\\begin{tabular}{r|lll}\n",
       " line & word & id\\\\\n",
       "\\hline\n",
       "\t 1    & your & 1   \\\\\n",
       "\t 2    & the  & 2   \\\\\n",
       "\t 4    & is   & 3   \\\\\n",
       "\t 4    & but  & 4   \\\\\n",
       "\t 4    & a    & 5   \\\\\n",
       "\\end{tabular}\n"
      ],
      "text/markdown": [
       "\n",
       "| line | word | id |\n",
       "|---|---|---|\n",
       "| 1    | your | 1    |\n",
       "| 2    | the  | 2    |\n",
       "| 4    | is   | 3    |\n",
       "| 4    | but  | 4    |\n",
       "| 4    | a    | 5    |\n",
       "\n"
      ],
      "text/plain": [
       "  line word id\n",
       "1 1    your 1 \n",
       "2 2    the  2 \n",
       "3 4    is   3 \n",
       "4 4    but  4 \n",
       "5 4    a    5 "
      ]
     },
     "metadata": {},
     "output_type": "display_data"
    }
   ],
   "source": [
    "text_df_token  %>% inner_join(stop_words, by='word')"
   ]
  }
 ],
 "metadata": {
  "hide_input": false,
  "kernelspec": {
   "display_name": "R",
   "language": "R",
   "name": "ir"
  },
  "language_info": {
   "codemirror_mode": "r",
   "file_extension": ".r",
   "mimetype": "text/x-r-source",
   "name": "R",
   "pygments_lexer": "r",
   "version": "3.4.4"
  },
  "toc": {
   "base_numbering": 1,
   "nav_menu": {},
   "number_sections": true,
   "sideBar": true,
   "skip_h1_title": false,
   "title_cell": "Table of Contents",
   "title_sidebar": "Contents",
   "toc_cell": false,
   "toc_position": {
    "height": "calc(100% - 180px)",
    "left": "10px",
    "top": "150px",
    "width": "384px"
   },
   "toc_section_display": true,
   "toc_window_display": true
  }
 },
 "nbformat": 4,
 "nbformat_minor": 2
}
